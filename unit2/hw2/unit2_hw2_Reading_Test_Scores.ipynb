{
 "cells": [
  {
   "cell_type": "markdown",
   "metadata": {},
   "source": [
    "READING TEST SCORES\n",
    "\n",
    "The Programme for International Student Assessment (PISA) is a test given every three years to 15-year-old students from around the world to evaluate their performance in mathematics, reading, and science. This test provides a quantitative way to compare the performance of students from different parts of the world. In this homework assignment, we will predict the reading scores of students from the United States of America on the 2009 PISA exam.\n",
    "\n",
    "The datasets ** pisa2009train.csv **  and  ** pisa2009test.csv ** contain information about the demographics and schools for American students taking the exam, derived from 2009 PISA Public-Use Data Files distributed by the United States National Center for Education Statistics (NCES). While the datasets are not supposed to contain identifying information about students taking the test, by using the data you are bound by the NCES data use agreement, which prohibits any attempt to determine the identity of any student in the datasets.\n",
    "\n",
    "Each row in the datasets pisa2009train.csv and pisa2009test.csv represents one student taking the exam. The datasets have the following variables:\n",
    "\n",
    "grade: The grade in school of the student (most 15-year-olds in America are in 10th grade)\n",
    "\n",
    "male: Whether the student is male (1/0)\n",
    "\n",
    "raceeth: The race/ethnicity composite of the student\n",
    "\n",
    "preschool: Whether the student attended preschool (1/0)\n",
    "\n",
    "expectBachelors: Whether the student expects to obtain a bachelor's degree (1/0)\n",
    "\n",
    "motherHS: Whether the student's mother completed high school (1/0)\n",
    "\n",
    "motherBachelors: Whether the student's mother obtained a bachelor's degree (1/0)\n",
    "\n",
    "motherWork: Whether the student's mother has part-time or full-time work (1/0)\n",
    "\n",
    "fatherHS: Whether the student's father completed high school (1/0)\n",
    "\n",
    "fatherBachelors: Whether the student's father obtained a bachelor's degree (1/0)\n",
    "\n",
    "fatherWork: Whether the student's father has part-time or full-time work (1/0)\n",
    "\n",
    "selfBornUS: Whether the student was born in the United States of America (1/0)\n",
    "\n",
    "motherBornUS: Whether the student's mother was born in the United States of America (1/0)\n",
    "\n",
    "fatherBornUS: Whether the student's father was born in the United States of America (1/0)\n",
    "\n",
    "englishAtHome: Whether the student speaks English at home (1/0)\n",
    "\n",
    "computerForSchoolwork: Whether the student has access to a computer for schoolwork (1/0)\n",
    "\n",
    "read30MinsADay: Whether the student reads for pleasure for 30 minutes/day (1/0)\n",
    "\n",
    "minutesPerWeekEnglish: The number of minutes per week the student spend in English class\n",
    "\n",
    "studentsInEnglish: The number of students in this student's English class at school\n",
    "\n",
    "schoolHasLibrary: Whether this student's school has a library (1/0)\n",
    "\n",
    "publicSchool: Whether this student attends a public school (1/0)\n",
    "\n",
    "urban: Whether this student's school is in an urban area (1/0)\n",
    "\n",
    "schoolSize: The number of students in this student's school\n",
    "\n",
    "readingScore: The student's reading score, on a 1000-point scale"
   ]
  },
  {
   "cell_type": "markdown",
   "metadata": {},
   "source": [
    "###  Problem 1.1 - Dataset size\n",
    "Load the training and testing sets using the read.csv() function, and save them as variables with the names pisaTrain and pisaTest.\n",
    "\n",
    "How many students are there in the training set?"
   ]
  },
  {
   "cell_type": "code",
   "execution_count": 1,
   "metadata": {
    "collapsed": true
   },
   "outputs": [],
   "source": [
    "pisaTrain = read.csv(\"pisa2009train.csv\")"
   ]
  },
  {
   "cell_type": "code",
   "execution_count": 2,
   "metadata": {
    "collapsed": true
   },
   "outputs": [],
   "source": [
    "pisaTest = read.csv(\"pisa2009test.csv\")"
   ]
  },
  {
   "cell_type": "code",
   "execution_count": 3,
   "metadata": {
    "collapsed": false
   },
   "outputs": [
    {
     "name": "stdout",
     "output_type": "stream",
     "text": [
      "'data.frame':\t3663 obs. of  24 variables:\n",
      " $ grade                : int  11 11 9 10 10 10 10 10 9 10 ...\n",
      " $ male                 : int  1 1 1 0 1 1 0 0 0 1 ...\n",
      " $ raceeth              : Factor w/ 7 levels \"American Indian/Alaska Native\",..: NA 7 7 3 4 3 2 7 7 5 ...\n",
      " $ preschool            : int  NA 0 1 1 1 1 0 1 1 1 ...\n",
      " $ expectBachelors      : int  0 0 1 1 0 1 1 1 0 1 ...\n",
      " $ motherHS             : int  NA 1 1 0 1 NA 1 1 1 1 ...\n",
      " $ motherBachelors      : int  NA 1 1 0 0 NA 0 0 NA 1 ...\n",
      " $ motherWork           : int  1 1 1 1 1 1 1 0 1 1 ...\n",
      " $ fatherHS             : int  NA 1 1 1 1 1 NA 1 0 0 ...\n",
      " $ fatherBachelors      : int  NA 0 NA 0 0 0 NA 0 NA 0 ...\n",
      " $ fatherWork           : int  1 1 1 1 0 1 NA 1 1 1 ...\n",
      " $ selfBornUS           : int  1 1 1 1 1 1 0 1 1 1 ...\n",
      " $ motherBornUS         : int  0 1 1 1 1 1 1 1 1 1 ...\n",
      " $ fatherBornUS         : int  0 1 1 1 0 1 NA 1 1 1 ...\n",
      " $ englishAtHome        : int  0 1 1 1 1 1 1 1 1 1 ...\n",
      " $ computerForSchoolwork: int  1 1 1 1 1 1 1 1 1 1 ...\n",
      " $ read30MinsADay       : int  0 1 0 1 1 0 0 1 0 0 ...\n",
      " $ minutesPerWeekEnglish: int  225 450 250 200 250 300 250 300 378 294 ...\n",
      " $ studentsInEnglish    : int  NA 25 28 23 35 20 28 30 20 24 ...\n",
      " $ schoolHasLibrary     : int  1 1 1 1 1 1 1 1 0 1 ...\n",
      " $ publicSchool         : int  1 1 1 1 1 1 1 1 1 1 ...\n",
      " $ urban                : int  1 0 0 1 1 0 1 0 1 0 ...\n",
      " $ schoolSize           : int  673 1173 1233 2640 1095 227 2080 1913 502 899 ...\n",
      " $ readingScore         : num  476 575 555 458 614 ...\n"
     ]
    }
   ],
   "source": [
    "str(pisaTrain)"
   ]
  },
  {
   "cell_type": "code",
   "execution_count": 4,
   "metadata": {
    "collapsed": false
   },
   "outputs": [
    {
     "name": "stdout",
     "output_type": "stream",
     "text": [
      "'data.frame':\t1570 obs. of  24 variables:\n",
      " $ grade                : int  10 10 10 10 10 10 10 10 11 10 ...\n",
      " $ male                 : int  0 1 0 0 0 0 0 0 0 1 ...\n",
      " $ raceeth              : Factor w/ 7 levels \"American Indian/Alaska Native\",..: 7 7 7 7 7 7 1 7 7 4 ...\n",
      " $ preschool            : int  1 0 1 1 1 0 1 1 0 1 ...\n",
      " $ expectBachelors      : int  0 0 0 0 1 0 0 0 0 1 ...\n",
      " $ motherHS             : int  1 1 1 1 1 1 1 1 1 1 ...\n",
      " $ motherBachelors      : int  1 0 0 1 0 0 0 0 1 1 ...\n",
      " $ motherWork           : int  1 1 1 1 0 1 0 1 1 1 ...\n",
      " $ fatherHS             : int  1 1 1 1 1 1 1 1 1 1 ...\n",
      " $ fatherBachelors      : int  0 0 0 0 1 0 0 0 1 0 ...\n",
      " $ fatherWork           : int  0 1 1 0 1 1 0 1 1 1 ...\n",
      " $ selfBornUS           : int  1 1 1 1 1 1 1 1 1 1 ...\n",
      " $ motherBornUS         : int  1 1 1 1 1 1 1 1 1 1 ...\n",
      " $ fatherBornUS         : int  1 1 1 1 1 1 1 1 1 1 ...\n",
      " $ englishAtHome        : int  1 1 1 1 1 1 1 1 1 1 ...\n",
      " $ computerForSchoolwork: int  1 1 1 1 1 0 1 1 1 1 ...\n",
      " $ read30MinsADay       : int  0 0 0 0 0 1 1 1 1 1 ...\n",
      " $ minutesPerWeekEnglish: int  240 255 NA 160 240 200 240 270 270 350 ...\n",
      " $ studentsInEnglish    : int  30 NA 30 30 30 NA 30 35 30 25 ...\n",
      " $ schoolHasLibrary     : int  1 1 1 NA 1 1 1 1 1 1 ...\n",
      " $ publicSchool         : int  1 1 1 1 1 1 1 1 1 1 ...\n",
      " $ urban                : int  0 0 0 0 0 0 0 0 0 0 ...\n",
      " $ schoolSize           : int  808 808 808 808 808 808 808 808 808 899 ...\n",
      " $ readingScore         : num  355 386 523 406 454 ...\n"
     ]
    }
   ],
   "source": [
    "str(pisaTest)"
   ]
  },
  {
   "cell_type": "markdown",
   "metadata": {},
   "source": [
    "### Problem 1.2 - Summarizing the dataset"
   ]
  },
  {
   "cell_type": "markdown",
   "metadata": {},
   "source": [
    "Using tapply() on pisaTrain, what is the average reading test score of males (1)? and females(0) "
   ]
  },
  {
   "cell_type": "code",
   "execution_count": 5,
   "metadata": {
    "collapsed": false
   },
   "outputs": [
    {
     "data": {
      "text/html": [
       "<dl class=dl-horizontal>\n",
       "\t<dt>0</dt>\n",
       "\t\t<dd>512.94063093244</dd>\n",
       "\t<dt>1</dt>\n",
       "\t\t<dd>483.532478632479</dd>\n",
       "</dl>\n"
      ],
      "text/latex": [
       "\\begin{description*}\n",
       "\\item[0] 512.94063093244\n",
       "\\item[1] 483.532478632479\n",
       "\\end{description*}\n"
      ],
      "text/markdown": [
       "0\n",
       ":   512.940630932441\n",
       ":   483.532478632479\n",
       "\n"
      ],
      "text/plain": [
       "       0        1 \n",
       "512.9406 483.5325 "
      ]
     },
     "execution_count": 5,
     "metadata": {},
     "output_type": "execute_result"
    }
   ],
   "source": [
    "## tapply(Summary Variable, Group Variable, Function)\n",
    "tapply(pisaTrain$readingScore,pisaTrain$male, mean)"
   ]
  },
  {
   "cell_type": "markdown",
   "metadata": {},
   "source": [
    "### Problem 1.3 - Locating missing values\n",
    "\n",
    "\n",
    "Which variables are missing data in at least one observation in the training set? Select all that apply.\n",
    "\n"
   ]
  },
  {
   "cell_type": "code",
   "execution_count": 6,
   "metadata": {
    "collapsed": false
   },
   "outputs": [
    {
     "data": {
      "text/plain": [
       "     grade            male                      raceeth       preschool     \n",
       " Min.   : 8.00   Min.   :0.0000   White             :2015   Min.   :0.0000  \n",
       " 1st Qu.:10.00   1st Qu.:0.0000   Hispanic          : 834   1st Qu.:0.0000  \n",
       " Median :10.00   Median :1.0000   Black             : 444   Median :1.0000  \n",
       " Mean   :10.09   Mean   :0.5111   Asian             : 143   Mean   :0.7228  \n",
       " 3rd Qu.:10.00   3rd Qu.:1.0000   More than one race: 124   3rd Qu.:1.0000  \n",
       " Max.   :12.00   Max.   :1.0000   (Other)           :  68   Max.   :1.0000  \n",
       "                                  NA's              :  35   NA's   :56      \n",
       " expectBachelors     motherHS    motherBachelors    motherWork    \n",
       " Min.   :0.0000   Min.   :0.00   Min.   :0.0000   Min.   :0.0000  \n",
       " 1st Qu.:1.0000   1st Qu.:1.00   1st Qu.:0.0000   1st Qu.:0.0000  \n",
       " Median :1.0000   Median :1.00   Median :0.0000   Median :1.0000  \n",
       " Mean   :0.7859   Mean   :0.88   Mean   :0.3481   Mean   :0.7345  \n",
       " 3rd Qu.:1.0000   3rd Qu.:1.00   3rd Qu.:1.0000   3rd Qu.:1.0000  \n",
       " Max.   :1.0000   Max.   :1.00   Max.   :1.0000   Max.   :1.0000  \n",
       " NA's   :62       NA's   :97     NA's   :397      NA's   :93      \n",
       "    fatherHS      fatherBachelors    fatherWork       selfBornUS    \n",
       " Min.   :0.0000   Min.   :0.0000   Min.   :0.0000   Min.   :0.0000  \n",
       " 1st Qu.:1.0000   1st Qu.:0.0000   1st Qu.:1.0000   1st Qu.:1.0000  \n",
       " Median :1.0000   Median :0.0000   Median :1.0000   Median :1.0000  \n",
       " Mean   :0.8593   Mean   :0.3319   Mean   :0.8531   Mean   :0.9313  \n",
       " 3rd Qu.:1.0000   3rd Qu.:1.0000   3rd Qu.:1.0000   3rd Qu.:1.0000  \n",
       " Max.   :1.0000   Max.   :1.0000   Max.   :1.0000   Max.   :1.0000  \n",
       " NA's   :245      NA's   :569      NA's   :233      NA's   :69      \n",
       "  motherBornUS     fatherBornUS    englishAtHome    computerForSchoolwork\n",
       " Min.   :0.0000   Min.   :0.0000   Min.   :0.0000   Min.   :0.0000       \n",
       " 1st Qu.:1.0000   1st Qu.:1.0000   1st Qu.:1.0000   1st Qu.:1.0000       \n",
       " Median :1.0000   Median :1.0000   Median :1.0000   Median :1.0000       \n",
       " Mean   :0.7725   Mean   :0.7668   Mean   :0.8717   Mean   :0.8994       \n",
       " 3rd Qu.:1.0000   3rd Qu.:1.0000   3rd Qu.:1.0000   3rd Qu.:1.0000       \n",
       " Max.   :1.0000   Max.   :1.0000   Max.   :1.0000   Max.   :1.0000       \n",
       " NA's   :71       NA's   :113      NA's   :71       NA's   :65           \n",
       " read30MinsADay   minutesPerWeekEnglish studentsInEnglish schoolHasLibrary\n",
       " Min.   :0.0000   Min.   :   0.0        Min.   : 1.0      Min.   :0.0000  \n",
       " 1st Qu.:0.0000   1st Qu.: 225.0        1st Qu.:20.0      1st Qu.:1.0000  \n",
       " Median :0.0000   Median : 250.0        Median :25.0      Median :1.0000  \n",
       " Mean   :0.2899   Mean   : 266.2        Mean   :24.5      Mean   :0.9676  \n",
       " 3rd Qu.:1.0000   3rd Qu.: 300.0        3rd Qu.:30.0      3rd Qu.:1.0000  \n",
       " Max.   :1.0000   Max.   :2400.0        Max.   :75.0      Max.   :1.0000  \n",
       " NA's   :34       NA's   :186           NA's   :249       NA's   :143     \n",
       "  publicSchool        urban          schoolSize    readingScore  \n",
       " Min.   :0.0000   Min.   :0.0000   Min.   : 100   Min.   :168.6  \n",
       " 1st Qu.:1.0000   1st Qu.:0.0000   1st Qu.: 712   1st Qu.:431.7  \n",
       " Median :1.0000   Median :0.0000   Median :1212   Median :499.7  \n",
       " Mean   :0.9339   Mean   :0.3849   Mean   :1369   Mean   :497.9  \n",
       " 3rd Qu.:1.0000   3rd Qu.:1.0000   3rd Qu.:1900   3rd Qu.:566.2  \n",
       " Max.   :1.0000   Max.   :1.0000   Max.   :6694   Max.   :746.0  \n",
       "                                   NA's   :162                   "
      ]
     },
     "execution_count": 6,
     "metadata": {},
     "output_type": "execute_result"
    }
   ],
   "source": [
    "summary(pisaTrain)"
   ]
  },
  {
   "cell_type": "markdown",
   "metadata": {},
   "source": [
    "### Problem 1.4 - Removing missing values \n",
    "\n",
    "Linear regression discards observations with missing data, so we will remove all such observations from the training and testing sets. Later in the course, we will learn about imputation, which deals with missing data by filling in missing values with plausible information.\n",
    "\n",
    "Type the following commands into your R console to remove observations with any missing value from pisaTrain and pisaTest:\n",
    "\n",
    "pisaTrain = na.omit(pisaTrain)\n",
    "\n",
    "pisaTest = na.omit(pisaTest)\n",
    "\n",
    "How many observations are now in the training set?\n",
    "\n",
    "How many observations are now in the testing set?"
   ]
  },
  {
   "cell_type": "code",
   "execution_count": 7,
   "metadata": {
    "collapsed": true
   },
   "outputs": [],
   "source": [
    "pisaTrain = na.omit(pisaTrain)\n",
    "\n",
    "pisaTest = na.omit(pisaTest)"
   ]
  },
  {
   "cell_type": "code",
   "execution_count": 8,
   "metadata": {
    "collapsed": false
   },
   "outputs": [
    {
     "name": "stdout",
     "output_type": "stream",
     "text": [
      "'data.frame':\t2414 obs. of  24 variables:\n",
      " $ grade                : int  11 10 10 10 10 10 10 10 11 9 ...\n",
      " $ male                 : int  1 0 1 0 1 0 0 0 1 1 ...\n",
      " $ raceeth              : Factor w/ 7 levels \"American Indian/Alaska Native\",..: 7 3 4 7 5 4 7 4 7 7 ...\n",
      " $ preschool            : int  0 1 1 1 1 1 1 1 1 1 ...\n",
      " $ expectBachelors      : int  0 1 0 1 1 1 1 0 1 1 ...\n",
      " $ motherHS             : int  1 0 1 1 1 1 1 0 1 1 ...\n",
      " $ motherBachelors      : int  1 0 0 0 1 0 0 0 0 1 ...\n",
      " $ motherWork           : int  1 1 1 0 1 1 1 0 0 1 ...\n",
      " $ fatherHS             : int  1 1 1 1 0 1 1 0 1 1 ...\n",
      " $ fatherBachelors      : int  0 0 0 0 0 0 1 0 1 1 ...\n",
      " $ fatherWork           : int  1 1 0 1 1 0 1 1 1 1 ...\n",
      " $ selfBornUS           : int  1 1 1 1 1 0 1 0 1 1 ...\n",
      " $ motherBornUS         : int  1 1 1 1 1 0 1 0 1 1 ...\n",
      " $ fatherBornUS         : int  1 1 0 1 1 0 1 0 1 1 ...\n",
      " $ englishAtHome        : int  1 1 1 1 1 0 1 0 1 1 ...\n",
      " $ computerForSchoolwork: int  1 1 1 1 1 0 1 1 1 1 ...\n",
      " $ read30MinsADay       : int  1 1 1 1 0 1 1 1 0 0 ...\n",
      " $ minutesPerWeekEnglish: int  450 200 250 300 294 232 225 270 275 225 ...\n",
      " $ studentsInEnglish    : int  25 23 35 30 24 14 20 25 30 15 ...\n",
      " $ schoolHasLibrary     : int  1 1 1 1 1 1 1 1 1 1 ...\n",
      " $ publicSchool         : int  1 1 1 1 1 1 1 1 1 0 ...\n",
      " $ urban                : int  0 1 1 0 0 0 0 1 1 1 ...\n",
      " $ schoolSize           : int  1173 2640 1095 1913 899 1733 149 1400 1988 915 ...\n",
      " $ readingScore         : num  575 458 614 439 466 ...\n",
      " - attr(*, \"na.action\")=Class 'omit'  Named int [1:1249] 1 3 6 7 9 11 13 21 29 30 ...\n",
      "  .. ..- attr(*, \"names\")= chr [1:1249] \"1\" \"3\" \"6\" \"7\" ...\n",
      "'data.frame':\t990 obs. of  24 variables:\n",
      " $ grade                : int  10 10 10 10 11 10 10 10 10 10 ...\n",
      " $ male                 : int  0 0 0 0 0 1 0 1 1 0 ...\n",
      " $ raceeth              : Factor w/ 7 levels \"American Indian/Alaska Native\",..: 7 7 1 7 7 4 7 4 7 4 ...\n",
      " $ preschool            : int  1 1 1 1 0 1 0 1 1 1 ...\n",
      " $ expectBachelors      : int  0 1 0 0 0 1 1 0 1 1 ...\n",
      " $ motherHS             : int  1 1 1 1 1 1 1 1 1 1 ...\n",
      " $ motherBachelors      : int  1 0 0 0 1 1 0 0 1 0 ...\n",
      " $ motherWork           : int  1 0 0 1 1 1 0 1 1 1 ...\n",
      " $ fatherHS             : int  1 1 1 1 1 1 1 1 1 1 ...\n",
      " $ fatherBachelors      : int  0 1 0 0 1 0 0 0 1 1 ...\n",
      " $ fatherWork           : int  0 1 0 1 1 1 1 0 1 1 ...\n",
      " $ selfBornUS           : int  1 1 1 1 1 1 1 1 1 1 ...\n",
      " $ motherBornUS         : int  1 1 1 1 1 1 1 1 1 1 ...\n",
      " $ fatherBornUS         : int  1 1 1 1 1 1 1 1 1 1 ...\n",
      " $ englishAtHome        : int  1 1 1 1 1 1 1 1 1 1 ...\n",
      " $ computerForSchoolwork: int  1 1 1 1 1 1 1 1 1 1 ...\n",
      " $ read30MinsADay       : int  0 0 1 1 1 1 0 0 0 1 ...\n",
      " $ minutesPerWeekEnglish: int  240 240 240 270 270 350 350 360 350 360 ...\n",
      " $ studentsInEnglish    : int  30 30 30 35 30 25 27 28 25 27 ...\n",
      " $ schoolHasLibrary     : int  1 1 1 1 1 1 1 1 1 1 ...\n",
      " $ publicSchool         : int  1 1 1 1 1 1 1 1 1 1 ...\n",
      " $ urban                : int  0 0 0 0 0 0 0 0 0 0 ...\n",
      " $ schoolSize           : int  808 808 808 808 808 899 899 899 899 899 ...\n",
      " $ readingScore         : num  355 454 405 665 605 ...\n",
      " - attr(*, \"na.action\")=Class 'omit'  Named int [1:580] 2 3 4 6 12 16 17 19 22 23 ...\n",
      "  .. ..- attr(*, \"names\")= chr [1:580] \"2\" \"3\" \"4\" \"6\" ...\n"
     ]
    }
   ],
   "source": [
    "str(pisaTrain)\n",
    "str(pisaTest)"
   ]
  },
  {
   "cell_type": "markdown",
   "metadata": {},
   "source": [
    "### Problem 2.1 - Factor variables\n",
    "\n",
    "Factor variables are variables that take on a discrete set of values, like the \"Region\" variable in the WHO dataset from the second lecture of Unit 1. This is an unordered factor because there isn't any natural ordering between the levels. An ordered factor has a natural ordering between the levels (an example would be the classifications \"large,\" \"medium,\" and \"small\").\n",
    "\n",
    "* Which of the following variables is an unordered factor with at least 3 levels? (Select all that apply.) - raceeth\n",
    "* Which of the following variables is an ordered factor with at least 3 levels? (Select all that apply.) - garde"
   ]
  },
  {
   "cell_type": "code",
   "execution_count": 9,
   "metadata": {
    "collapsed": false
   },
   "outputs": [
    {
     "name": "stdout",
     "output_type": "stream",
     "text": [
      "'data.frame':\t2414 obs. of  24 variables:\n",
      " $ grade                : int  11 10 10 10 10 10 10 10 11 9 ...\n",
      " $ male                 : int  1 0 1 0 1 0 0 0 1 1 ...\n",
      " $ raceeth              : Factor w/ 7 levels \"American Indian/Alaska Native\",..: 7 3 4 7 5 4 7 4 7 7 ...\n",
      " $ preschool            : int  0 1 1 1 1 1 1 1 1 1 ...\n",
      " $ expectBachelors      : int  0 1 0 1 1 1 1 0 1 1 ...\n",
      " $ motherHS             : int  1 0 1 1 1 1 1 0 1 1 ...\n",
      " $ motherBachelors      : int  1 0 0 0 1 0 0 0 0 1 ...\n",
      " $ motherWork           : int  1 1 1 0 1 1 1 0 0 1 ...\n",
      " $ fatherHS             : int  1 1 1 1 0 1 1 0 1 1 ...\n",
      " $ fatherBachelors      : int  0 0 0 0 0 0 1 0 1 1 ...\n",
      " $ fatherWork           : int  1 1 0 1 1 0 1 1 1 1 ...\n",
      " $ selfBornUS           : int  1 1 1 1 1 0 1 0 1 1 ...\n",
      " $ motherBornUS         : int  1 1 1 1 1 0 1 0 1 1 ...\n",
      " $ fatherBornUS         : int  1 1 0 1 1 0 1 0 1 1 ...\n",
      " $ englishAtHome        : int  1 1 1 1 1 0 1 0 1 1 ...\n",
      " $ computerForSchoolwork: int  1 1 1 1 1 0 1 1 1 1 ...\n",
      " $ read30MinsADay       : int  1 1 1 1 0 1 1 1 0 0 ...\n",
      " $ minutesPerWeekEnglish: int  450 200 250 300 294 232 225 270 275 225 ...\n",
      " $ studentsInEnglish    : int  25 23 35 30 24 14 20 25 30 15 ...\n",
      " $ schoolHasLibrary     : int  1 1 1 1 1 1 1 1 1 1 ...\n",
      " $ publicSchool         : int  1 1 1 1 1 1 1 1 1 0 ...\n",
      " $ urban                : int  0 1 1 0 0 0 0 1 1 1 ...\n",
      " $ schoolSize           : int  1173 2640 1095 1913 899 1733 149 1400 1988 915 ...\n",
      " $ readingScore         : num  575 458 614 439 466 ...\n",
      " - attr(*, \"na.action\")=Class 'omit'  Named int [1:1249] 1 3 6 7 9 11 13 21 29 30 ...\n",
      "  .. ..- attr(*, \"names\")= chr [1:1249] \"1\" \"3\" \"6\" \"7\" ...\n"
     ]
    }
   ],
   "source": [
    "str(pisaTrain)"
   ]
  },
  {
   "cell_type": "markdown",
   "metadata": {},
   "source": [
    "### Problem 2.2 - Unordered factors in regression models \n",
    "To include unordered factors in a linear regression model, we define one level as the \"reference level\" and add a binary variable for each of the remaining levels. In this way, a factor with n levels is replaced by n-1 binary variables. The reference level is typically selected to be the most frequently occurring level in the dataset.\n",
    "\n",
    "As an example, consider the unordered factor variable \"color\", with levels \"red\", \"green\", and \"blue\". If \"green\" were the reference level, then we would add binary variables \"colorred\" and \"colorblue\" to a linear regression problem. All red examples would have colorred=1 and colorblue=0. All blue examples would have colorred=0 and colorblue=1. All green examples would have colorred=0 and colorblue=0.\n",
    "\n",
    "Now, consider the variable \"raceeth\" in our problem, which has levels \"American Indian/Alaska Native\", \"Asian\", \"Black\", \"Hispanic\", \"More than one race\", \"Native Hawaiian/Other Pacific Islander\", and \"White\". Because it is the most common in our population, we will select White as the reference level."
   ]
  },
  {
   "cell_type": "code",
   "execution_count": 10,
   "metadata": {
    "collapsed": false
   },
   "outputs": [
    {
     "data": {
      "text/plain": [
       "     grade            male                                          raceeth    \n",
       " Min.   : 8.00   Min.   :0.0000   American Indian/Alaska Native         :  20  \n",
       " 1st Qu.:10.00   1st Qu.:0.0000   Asian                                 :  95  \n",
       " Median :10.00   Median :1.0000   Black                                 : 228  \n",
       " Mean   :10.13   Mean   :0.5012   Hispanic                              : 500  \n",
       " 3rd Qu.:10.00   3rd Qu.:1.0000   More than one race                    :  81  \n",
       " Max.   :12.00   Max.   :1.0000   Native Hawaiian/Other Pacific Islander:  20  \n",
       "                                  White                                 :1470  \n",
       "   preschool      expectBachelors     motherHS     motherBachelors \n",
       " Min.   :0.0000   Min.   :0.0000   Min.   :0.000   Min.   :0.0000  \n",
       " 1st Qu.:0.0000   1st Qu.:1.0000   1st Qu.:1.000   1st Qu.:0.0000  \n",
       " Median :1.0000   Median :1.0000   Median :1.000   Median :0.0000  \n",
       " Mean   :0.7274   Mean   :0.8343   Mean   :0.896   Mean   :0.3637  \n",
       " 3rd Qu.:1.0000   3rd Qu.:1.0000   3rd Qu.:1.000   3rd Qu.:1.0000  \n",
       " Max.   :1.0000   Max.   :1.0000   Max.   :1.000   Max.   :1.0000  \n",
       "                                                                   \n",
       "   motherWork        fatherHS      fatherBachelors    fatherWork    \n",
       " Min.   :0.0000   Min.   :0.0000   Min.   :0.0000   Min.   :0.0000  \n",
       " 1st Qu.:0.0000   1st Qu.:1.0000   1st Qu.:0.0000   1st Qu.:1.0000  \n",
       " Median :1.0000   Median :1.0000   Median :0.0000   Median :1.0000  \n",
       " Mean   :0.7357   Mean   :0.8741   Mean   :0.3484   Mean   :0.8571  \n",
       " 3rd Qu.:1.0000   3rd Qu.:1.0000   3rd Qu.:1.0000   3rd Qu.:1.0000  \n",
       " Max.   :1.0000   Max.   :1.0000   Max.   :1.0000   Max.   :1.0000  \n",
       "                                                                    \n",
       "   selfBornUS      motherBornUS   fatherBornUS    englishAtHome   \n",
       " Min.   :0.0000   Min.   :0.00   Min.   :0.0000   Min.   :0.0000  \n",
       " 1st Qu.:1.0000   1st Qu.:1.00   1st Qu.:1.0000   1st Qu.:1.0000  \n",
       " Median :1.0000   Median :1.00   Median :1.0000   Median :1.0000  \n",
       " Mean   :0.9362   Mean   :0.79   Mean   :0.7854   Mean   :0.8815  \n",
       " 3rd Qu.:1.0000   3rd Qu.:1.00   3rd Qu.:1.0000   3rd Qu.:1.0000  \n",
       " Max.   :1.0000   Max.   :1.00   Max.   :1.0000   Max.   :1.0000  \n",
       "                                                                  \n",
       " computerForSchoolwork read30MinsADay   minutesPerWeekEnglish studentsInEnglish\n",
       " Min.   :0.0000        Min.   :0.0000   Min.   :   0.0        Min.   : 1.00    \n",
       " 1st Qu.:1.0000        1st Qu.:0.0000   1st Qu.: 225.0        1st Qu.:20.00    \n",
       " Median :1.0000        Median :0.0000   Median : 250.0        Median :25.00    \n",
       " Mean   :0.9155        Mean   :0.3016   Mean   : 269.8        Mean   :24.56    \n",
       " 3rd Qu.:1.0000        3rd Qu.:1.0000   3rd Qu.: 300.0        3rd Qu.:30.00    \n",
       " Max.   :1.0000        Max.   :1.0000   Max.   :1680.0        Max.   :75.00    \n",
       "                                                                               \n",
       " schoolHasLibrary  publicSchool        urban          schoolSize  \n",
       " Min.   :0.0000   Min.   :0.0000   Min.   :0.0000   Min.   : 100  \n",
       " 1st Qu.:1.0000   1st Qu.:1.0000   1st Qu.:0.0000   1st Qu.: 712  \n",
       " Median :1.0000   Median :1.0000   Median :0.0000   Median :1233  \n",
       " Mean   :0.9714   Mean   :0.9176   Mean   :0.3629   Mean   :1372  \n",
       " 3rd Qu.:1.0000   3rd Qu.:1.0000   3rd Qu.:1.0000   3rd Qu.:1900  \n",
       " Max.   :1.0000   Max.   :1.0000   Max.   :1.0000   Max.   :6694  \n",
       "                                                                  \n",
       "  readingScore  \n",
       " Min.   :244.5  \n",
       " 1st Qu.:455.8  \n",
       " Median :520.2  \n",
       " Mean   :518.0  \n",
       " 3rd Qu.:581.4  \n",
       " Max.   :746.0  \n",
       "                "
      ]
     },
     "execution_count": 10,
     "metadata": {},
     "output_type": "execute_result"
    }
   ],
   "source": [
    "summary(pisaTrain)"
   ]
  },
  {
   "cell_type": "markdown",
   "metadata": {},
   "source": [
    "All Except White"
   ]
  },
  {
   "cell_type": "markdown",
   "metadata": {},
   "source": [
    "###  Problem 3.1 - Building a model"
   ]
  },
  {
   "cell_type": "code",
   "execution_count": 11,
   "metadata": {
    "collapsed": true
   },
   "outputs": [],
   "source": [
    "pisaTrain$raceeth = relevel(pisaTrain$raceeth, \"White\")\n",
    "\n",
    "pisaTest$raceeth = relevel(pisaTest$raceeth, \"White\")"
   ]
  },
  {
   "cell_type": "code",
   "execution_count": 14,
   "metadata": {
    "collapsed": true
   },
   "outputs": [],
   "source": [
    "lmScore = lm (readingScore ~ ., data = pisaTrain )"
   ]
  },
  {
   "cell_type": "code",
   "execution_count": 16,
   "metadata": {
    "collapsed": false
   },
   "outputs": [
    {
     "data": {
      "text/plain": [
       "\n",
       "Call:\n",
       "lm(formula = readingScore ~ ., data = pisaTrain)\n",
       "\n",
       "Residuals:\n",
       "    Min      1Q  Median      3Q     Max \n",
       "-247.44  -48.86    1.86   49.77  217.18 \n",
       "\n",
       "Coefficients:\n",
       "                                                Estimate Std. Error t value\n",
       "(Intercept)                                   143.766333  33.841226   4.248\n",
       "grade                                          29.542707   2.937399  10.057\n",
       "male                                          -14.521653   3.155926  -4.601\n",
       "raceethAmerican Indian/Alaska Native          -67.277327  16.786935  -4.008\n",
       "raceethAsian                                   -4.110325   9.220071  -0.446\n",
       "raceethBlack                                  -67.012347   5.460883 -12.271\n",
       "raceethHispanic                               -38.975486   5.177743  -7.528\n",
       "raceethMore than one race                     -16.922522   8.496268  -1.992\n",
       "raceethNative Hawaiian/Other Pacific Islander  -5.101601  17.005696  -0.300\n",
       "preschool                                      -4.463670   3.486055  -1.280\n",
       "expectBachelors                                55.267080   4.293893  12.871\n",
       "motherHS                                        6.058774   6.091423   0.995\n",
       "motherBachelors                                12.638068   3.861457   3.273\n",
       "motherWork                                     -2.809101   3.521827  -0.798\n",
       "fatherHS                                        4.018214   5.579269   0.720\n",
       "fatherBachelors                                16.929755   3.995253   4.237\n",
       "fatherWork                                      5.842798   4.395978   1.329\n",
       "selfBornUS                                     -3.806278   7.323718  -0.520\n",
       "motherBornUS                                   -8.798153   6.587621  -1.336\n",
       "fatherBornUS                                    4.306994   6.263875   0.688\n",
       "englishAtHome                                   8.035685   6.859492   1.171\n",
       "computerForSchoolwork                          22.500232   5.702562   3.946\n",
       "read30MinsADay                                 34.871924   3.408447  10.231\n",
       "minutesPerWeekEnglish                           0.012788   0.010712   1.194\n",
       "studentsInEnglish                              -0.286631   0.227819  -1.258\n",
       "schoolHasLibrary                               12.215085   9.264884   1.318\n",
       "publicSchool                                  -16.857475   6.725614  -2.506\n",
       "urban                                          -0.110132   3.962724  -0.028\n",
       "schoolSize                                      0.006540   0.002197   2.977\n",
       "                                              Pr(>|t|)    \n",
       "(Intercept)                                   2.24e-05 ***\n",
       "grade                                          < 2e-16 ***\n",
       "male                                          4.42e-06 ***\n",
       "raceethAmerican Indian/Alaska Native          6.32e-05 ***\n",
       "raceethAsian                                   0.65578    \n",
       "raceethBlack                                   < 2e-16 ***\n",
       "raceethHispanic                               7.29e-14 ***\n",
       "raceethMore than one race                      0.04651 *  \n",
       "raceethNative Hawaiian/Other Pacific Islander  0.76421    \n",
       "preschool                                      0.20052    \n",
       "expectBachelors                                < 2e-16 ***\n",
       "motherHS                                       0.32001    \n",
       "motherBachelors                                0.00108 ** \n",
       "motherWork                                     0.42517    \n",
       "fatherHS                                       0.47147    \n",
       "fatherBachelors                               2.35e-05 ***\n",
       "fatherWork                                     0.18393    \n",
       "selfBornUS                                     0.60331    \n",
       "motherBornUS                                   0.18182    \n",
       "fatherBornUS                                   0.49178    \n",
       "englishAtHome                                  0.24153    \n",
       "computerForSchoolwork                         8.19e-05 ***\n",
       "read30MinsADay                                 < 2e-16 ***\n",
       "minutesPerWeekEnglish                          0.23264    \n",
       "studentsInEnglish                              0.20846    \n",
       "schoolHasLibrary                               0.18749    \n",
       "publicSchool                                   0.01226 *  \n",
       "urban                                          0.97783    \n",
       "schoolSize                                     0.00294 ** \n",
       "---\n",
       "Signif. codes:  0 '***' 0.001 '**' 0.01 '*' 0.05 '.' 0.1 ' ' 1\n",
       "\n",
       "Residual standard error: 73.81 on 2385 degrees of freedom\n",
       "Multiple R-squared:  0.3251,\tAdjusted R-squared:  0.3172 \n",
       "F-statistic: 41.04 on 28 and 2385 DF,  p-value: < 2.2e-16\n"
      ]
     },
     "execution_count": 16,
     "metadata": {},
     "output_type": "execute_result"
    }
   ],
   "source": [
    "summary(lmScore)"
   ]
  },
  {
   "cell_type": "markdown",
   "metadata": {},
   "source": [
    "### Problem 3.2 - Computing the root-mean squared error of the model"
   ]
  },
  {
   "cell_type": "code",
   "execution_count": 23,
   "metadata": {
    "collapsed": false
   },
   "outputs": [],
   "source": [
    "RMSE = sqrt(mean(lmScore$residuals^2))"
   ]
  },
  {
   "cell_type": "code",
   "execution_count": 26,
   "metadata": {
    "collapsed": false
   },
   "outputs": [
    {
     "data": {
      "text/html": [
       "73.3655514329846"
      ],
      "text/latex": [
       "73.3655514329846"
      ],
      "text/markdown": [
       "73.3655514329846"
      ],
      "text/plain": [
       "[1] 73.36555"
      ]
     },
     "execution_count": 26,
     "metadata": {},
     "output_type": "execute_result"
    }
   ],
   "source": [
    "RMSE"
   ]
  },
  {
   "cell_type": "markdown",
   "metadata": {},
   "source": [
    "The training-set RMSE can be computed by first computing the SSE:\n",
    "\n",
    "SSE = sum(lmScore$residuals^2)\n",
    "\n",
    "and then dividing by the number of observations and taking the square root:\n",
    "\n",
    "RMSE = sqrt(SSE / nrow(pisaTrain))\n",
    "\n",
    "A alternative way of getting this answer would be with the following command:\n",
    "\n",
    "sqrt(mean(lmScore$residuals^2))."
   ]
  },
  {
   "cell_type": "markdown",
   "metadata": {},
   "source": [
    "### Problem 3.3 - Comparing predictions for similar students\n",
    "\n",
    "\n",
    "Consider two students A and B. They have all variable values the same, except that student A is in grade 11 and student B is in grade 9. What is the predicted reading score of student A minus the predicted reading score of student B?"
   ]
  },
  {
   "cell_type": "markdown",
   "metadata": {},
   "source": [
    "The coefficient 29.54 on grade is the difference in reading score between two students who are identical other than having a difference in grade of 1. Because A and B have a difference in grade of 2, the model predicts that student A has a reading score that is 2*29.54 larger."
   ]
  },
  {
   "cell_type": "markdown",
   "metadata": {},
   "source": [
    "### Problem 3.4 - Interpreting model coefficients\n",
    "\n",
    "\n",
    "What is the meaning of the coefficient associated with variable raceethAsian?\n",
    "\n",
    "* Predicted average reading score of an Asian student \n",
    "* Difference between the average reading score of an Asian student and the average reading score of a white student \n",
    "* Difference between the average reading score of an Asian student and the average reading score of all the students in the dataset  - incorrect  \n",
    "\n",
    "* Predicted difference in the reading score between an Asian student and a white student who is otherwise identical  - CORRECT \n",
    "\n",
    "The only difference between an Asian student and white student with otherwise identical variables is that the former has raceethAsian=1 and the latter has raceethAsian=0. The predicted reading score for these two students will differ by the coefficient on the variable raceethAsian"
   ]
  },
  {
   "cell_type": "markdown",
   "metadata": {},
   "source": [
    "Problem 4.1 - Predicting on unseen data\n",
    "\n",
    "(2 points possible)\n",
    "Using the \"predict\" function and supplying the \"newdata\" argument, use the lmScore model to predict the reading scores of students in pisaTest. Call this vector of predictions \"predTest\". Do not change the variables in the model (for example, do not remove variables that we found were not significant in the previous part of this problem). Use the summary function to describe the test set predictions.\n",
    "\n",
    "What is the range between the maximum and minimum predicted reading score on the test set?"
   ]
  },
  {
   "cell_type": "code",
   "execution_count": 31,
   "metadata": {
    "collapsed": false
   },
   "outputs": [],
   "source": [
    "predTest = predict(lmScore , newdata = pisaTest)"
   ]
  },
  {
   "cell_type": "code",
   "execution_count": 32,
   "metadata": {
    "collapsed": false
   },
   "outputs": [
    {
     "data": {
      "text/plain": [
       "   Min. 1st Qu.  Median    Mean 3rd Qu.    Max. \n",
       "  353.2   482.0   524.0   516.7   555.7   637.7 "
      ]
     },
     "execution_count": 32,
     "metadata": {},
     "output_type": "execute_result"
    }
   ],
   "source": [
    "summary(predTest)"
   ]
  },
  {
   "cell_type": "code",
   "execution_count": 33,
   "metadata": {
    "collapsed": false
   },
   "outputs": [
    {
     "data": {
      "text/html": [
       "284.5"
      ],
      "text/latex": [
       "284.5"
      ],
      "text/markdown": [
       "284.5"
      ],
      "text/plain": [
       "[1] 284.5"
      ]
     },
     "execution_count": 33,
     "metadata": {},
     "output_type": "execute_result"
    }
   ],
   "source": [
    "637.7 - 353.2"
   ]
  },
  {
   "cell_type": "code",
   "execution_count": 35,
   "metadata": {
    "collapsed": false
   },
   "outputs": [],
   "source": [
    "SSEpredict = sum((pisaTest$readingScore - predTest)^2)"
   ]
  },
  {
   "cell_type": "code",
   "execution_count": 36,
   "metadata": {
    "collapsed": false
   },
   "outputs": [
    {
     "data": {
      "text/html": [
       "5762082.3711444"
      ],
      "text/latex": [
       "5762082.3711444"
      ],
      "text/markdown": [
       "5762082.3711444"
      ],
      "text/plain": [
       "[1] 5762082"
      ]
     },
     "execution_count": 36,
     "metadata": {},
     "output_type": "execute_result"
    }
   ],
   "source": [
    "SSEpredict"
   ]
  },
  {
   "cell_type": "code",
   "execution_count": 39,
   "metadata": {
    "collapsed": true
   },
   "outputs": [],
   "source": [
    "RMSETest = sqrt(SSEpredict / nrow(pisaTest))"
   ]
  },
  {
   "cell_type": "code",
   "execution_count": 40,
   "metadata": {
    "collapsed": false
   },
   "outputs": [
    {
     "data": {
      "text/html": [
       "76.290793831092"
      ],
      "text/latex": [
       "76.290793831092"
      ],
      "text/markdown": [
       "76.290793831092"
      ],
      "text/plain": [
       "[1] 76.29079"
      ]
     },
     "execution_count": 40,
     "metadata": {},
     "output_type": "execute_result"
    }
   ],
   "source": [
    "RMSETest"
   ]
  },
  {
   "cell_type": "markdown",
   "metadata": {},
   "source": [
    "### Problem 4.3 - Baseline prediction and test-set SSE"
   ]
  },
  {
   "cell_type": "code",
   "execution_count": 45,
   "metadata": {
    "collapsed": false
   },
   "outputs": [],
   "source": [
    " baseline = mean(pisaTrain$readingScore)"
   ]
  },
  {
   "cell_type": "code",
   "execution_count": 46,
   "metadata": {
    "collapsed": false
   },
   "outputs": [],
   "source": [
    "SST = sum((pisaTest$readingScore - baseline)^2)"
   ]
  },
  {
   "cell_type": "code",
   "execution_count": 47,
   "metadata": {
    "collapsed": false
   },
   "outputs": [
    {
     "data": {
      "text/html": [
       "7802354.07761384"
      ],
      "text/latex": [
       "7802354.07761384"
      ],
      "text/markdown": [
       "7802354.07761384"
      ],
      "text/plain": [
       "[1] 7802354"
      ]
     },
     "execution_count": 47,
     "metadata": {},
     "output_type": "execute_result"
    }
   ],
   "source": [
    "SST"
   ]
  },
  {
   "cell_type": "markdown",
   "metadata": {},
   "source": [
    "#### Problem 4.4 - Test-set R-squared"
   ]
  },
  {
   "cell_type": "code",
   "execution_count": 49,
   "metadata": {
    "collapsed": false
   },
   "outputs": [
    {
     "data": {
      "text/html": [
       "0.261494375437702"
      ],
      "text/latex": [
       "0.261494375437702"
      ],
      "text/markdown": [
       "0.261494375437702"
      ],
      "text/plain": [
       "[1] 0.2614944"
      ]
     },
     "execution_count": 49,
     "metadata": {},
     "output_type": "execute_result"
    }
   ],
   "source": [
    "1- SSEpredict/SST"
   ]
  },
  {
   "cell_type": "code",
   "execution_count": null,
   "metadata": {
    "collapsed": true
   },
   "outputs": [],
   "source": []
  }
 ],
 "metadata": {
  "kernelspec": {
   "display_name": "R",
   "language": "R",
   "name": "ir"
  },
  "language_info": {
   "codemirror_mode": "r",
   "file_extension": ".r",
   "mimetype": "text/x-r-source",
   "name": "R",
   "pygments_lexer": "r",
   "version": "3.1.3"
  }
 },
 "nbformat": 4,
 "nbformat_minor": 0
}
