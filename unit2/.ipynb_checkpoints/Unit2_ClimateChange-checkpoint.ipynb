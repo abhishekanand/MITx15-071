{
 "cells": [
  {
   "cell_type": "markdown",
   "metadata": {},
   "source": [
    "##  CLIMATE CHANGE\n",
    "\n",
    "There have been many studies documenting that the average global temperature has been increasing over the last century. The consequences of a continued rise in global temperature will be dire. Rising sea levels and an increased frequency of extreme weather events will affect billions of people.\n",
    "\n",
    "In this problem, we will attempt to study the relationship between average global temperature and several other factors.\n",
    "\n",
    "The file climate_change.csv contains climate data from May 1983 to December 2008. The available variables include:\n",
    "\n",
    "Year: the observation year.\n",
    "Month: the observation month.\n",
    "\n",
    "Temp: the difference in degrees Celsius between the average global temperature in that period and a reference value. This data comes from the Climatic Research Unit at the University of East Anglia.\n",
    "CO2, N2O, CH4, CFC.11, CFC.12: atmospheric concentrations of carbon dioxide (CO2), nitrous oxide (N2O), methane  (CH4), trichlorofluoromethane (CCl3F; commonly referred to as CFC-11) and dichlorodifluoromethane (CCl2F2; commonly referred to as CFC-12), respectively. This data comes from the ESRL/NOAA Global Monitoring Division.\n",
    "CO2, N2O and CH4 are expressed in ppmv (parts per million by volume  -- i.e., 397 ppmv of CO2 means that CO2 constitutes 397 millionths of the total volume of the atmosphere)\n",
    "CFC.11 and CFC.12 are expressed in ppbv (parts per billion by volume). \n",
    "Aerosols: the mean stratospheric aerosol optical depth at 550 nm. This variable is linked to volcanoes, as volcanic eruptions result in new particles being added to the atmosphere, which affect how much of the sun's energy is reflected back into space. This data is from the Godard Institute for Space Studies at NASA.\n",
    "TSI: the total solar irradiance (TSI) in W/m2 (the rate at which the sun's energy is deposited per unit area). Due to sunspots and other solar phenomena, the amount of energy that is given off by the sun varies substantially with time. This data is from the SOLARIS-HEPPA project website.\n",
    "MEI: multivariate El Nino Southern Oscillation index (MEI), a measure of the strength of the El Nino/La Nina-Southern Oscillation (a weather effect in the Pacific Ocean that affects global temperatures). This data comes from the ESRL/NOAA Physical Sciences Division."
   ]
  },
  {
   "cell_type": "markdown",
   "metadata": {},
   "source": [
    "### Problem 1 - Creating Our First Model "
   ]
  },
  {
   "cell_type": "code",
   "execution_count": 11,
   "metadata": {
    "collapsed": true
   },
   "outputs": [],
   "source": [
    "ClimateChange = read.csv(\"climate_change.csv\")"
   ]
  },
  {
   "cell_type": "code",
   "execution_count": 12,
   "metadata": {
    "collapsed": false
   },
   "outputs": [
    {
     "name": "stdout",
     "output_type": "stream",
     "text": [
      "'data.frame':\t308 obs. of  11 variables:\n",
      " $ Year    : int  1983 1983 1983 1983 1983 1983 1983 1983 1984 1984 ...\n",
      " $ Month   : int  5 6 7 8 9 10 11 12 1 2 ...\n",
      " $ MEI     : num  2.556 2.167 1.741 1.13 0.428 ...\n",
      " $ CO2     : num  346 346 344 342 340 ...\n",
      " $ CH4     : num  1639 1634 1633 1631 1648 ...\n",
      " $ N2O     : num  304 304 304 304 304 ...\n",
      " $ CFC.11  : num  191 192 193 194 194 ...\n",
      " $ CFC.12  : num  350 352 354 356 357 ...\n",
      " $ TSI     : num  1366 1366 1366 1366 1366 ...\n",
      " $ Aerosols: num  0.0863 0.0794 0.0731 0.0673 0.0619 0.0569 0.0524 0.0486 0.0451 0.0416 ...\n",
      " $ Temp    : num  0.109 0.118 0.137 0.176 0.149 0.093 0.232 0.078 0.089 0.013 ...\n"
     ]
    }
   ],
   "source": [
    "str(ClimateChange)"
   ]
  },
  {
   "cell_type": "markdown",
   "metadata": {},
   "source": [
    "We are interested in how changes in these variables affect future temperatures, as well as how well these variables explain temperature changes so far. To do this, first read the dataset climate_change.csv into R."
   ]
  },
  {
   "cell_type": "markdown",
   "metadata": {},
   "source": [
    "Then, split the data into a training set, consisting of all the observations up to and including 2006, and a testing set consisting of the remaining years (hint: use subset). A training set refers to the data that will be used to build the model (this is the data we give to the lm() function), and a testing set refers to the data we will use to test our predictive ability."
   ]
  },
  {
   "cell_type": "code",
   "execution_count": 13,
   "metadata": {
    "collapsed": true
   },
   "outputs": [],
   "source": [
    "climate2006 = subset(ClimateChange , Year < 2007)"
   ]
  },
  {
   "cell_type": "code",
   "execution_count": 14,
   "metadata": {
    "collapsed": false
   },
   "outputs": [
    {
     "name": "stdout",
     "output_type": "stream",
     "text": [
      "'data.frame':\t284 obs. of  11 variables:\n",
      " $ Year    : int  1983 1983 1983 1983 1983 1983 1983 1983 1984 1984 ...\n",
      " $ Month   : int  5 6 7 8 9 10 11 12 1 2 ...\n",
      " $ MEI     : num  2.556 2.167 1.741 1.13 0.428 ...\n",
      " $ CO2     : num  346 346 344 342 340 ...\n",
      " $ CH4     : num  1639 1634 1633 1631 1648 ...\n",
      " $ N2O     : num  304 304 304 304 304 ...\n",
      " $ CFC.11  : num  191 192 193 194 194 ...\n",
      " $ CFC.12  : num  350 352 354 356 357 ...\n",
      " $ TSI     : num  1366 1366 1366 1366 1366 ...\n",
      " $ Aerosols: num  0.0863 0.0794 0.0731 0.0673 0.0619 0.0569 0.0524 0.0486 0.0451 0.0416 ...\n",
      " $ Temp    : num  0.109 0.118 0.137 0.176 0.149 0.093 0.232 0.078 0.089 0.013 ...\n"
     ]
    }
   ],
   "source": [
    "str(climate2006)"
   ]
  },
  {
   "cell_type": "code",
   "execution_count": 15,
   "metadata": {
    "collapsed": true
   },
   "outputs": [],
   "source": [
    "climateafter2007 = subset(ClimateChange , Year > 2006)"
   ]
  },
  {
   "cell_type": "code",
   "execution_count": 16,
   "metadata": {
    "collapsed": false
   },
   "outputs": [
    {
     "name": "stdout",
     "output_type": "stream",
     "text": [
      "'data.frame':\t24 obs. of  11 variables:\n",
      " $ Year    : int  2007 2007 2007 2007 2007 2007 2007 2007 2007 2007 ...\n",
      " $ Month   : int  1 2 3 4 5 6 7 8 9 10 ...\n",
      " $ MEI     : num  0.974 0.51 0.074 -0.049 0.183 ...\n",
      " $ CO2     : num  383 384 385 386 387 ...\n",
      " $ CH4     : num  1800 1803 1803 1802 1796 ...\n",
      " $ N2O     : num  321 321 321 321 320 ...\n",
      " $ CFC.11  : num  248 248 248 248 247 ...\n",
      " $ CFC.12  : num  539 539 539 539 538 ...\n",
      " $ TSI     : num  1366 1366 1366 1366 1366 ...\n",
      " $ Aerosols: num  0.0054 0.0051 0.0045 0.0045 0.0041 0.004 0.004 0.0041 0.0042 0.0041 ...\n",
      " $ Temp    : num  0.601 0.498 0.435 0.466 0.372 0.382 0.394 0.358 0.402 0.362 ...\n"
     ]
    }
   ],
   "source": [
    "str(climateafter2007)"
   ]
  },
  {
   "cell_type": "markdown",
   "metadata": {},
   "source": [
    "Next, build a linear regression model to predict the dependent variable Temp, using MEI, CO2, CH4, N2O, CFC.11, CFC.12, TSI, and Aerosols as independent variables (Year and Month should NOT be used in the model). Use the training set to build the model.\n",
    "\n",
    "\n",
    "Enter the model R2 (the \"Multiple R-squared\" value):"
   ]
  },
  {
   "cell_type": "code",
   "execution_count": 17,
   "metadata": {
    "collapsed": true
   },
   "outputs": [],
   "source": [
    "model1 = lm(Temp ~ MEI + CO2 + CH4 + N2O + CFC.11 + CFC.12 + TSI + Aerosols, data=climate2006)"
   ]
  },
  {
   "cell_type": "code",
   "execution_count": 18,
   "metadata": {
    "collapsed": false
   },
   "outputs": [
    {
     "data": {
      "text/plain": [
       "\n",
       "Call:\n",
       "lm(formula = Temp ~ MEI + CO2 + CH4 + N2O + CFC.11 + CFC.12 + \n",
       "    TSI + Aerosols, data = climate2006)\n",
       "\n",
       "Residuals:\n",
       "     Min       1Q   Median       3Q      Max \n",
       "-0.25888 -0.05913 -0.00082  0.05649  0.32433 \n",
       "\n",
       "Coefficients:\n",
       "              Estimate Std. Error t value Pr(>|t|)    \n",
       "(Intercept) -1.246e+02  1.989e+01  -6.265 1.43e-09 ***\n",
       "MEI          6.421e-02  6.470e-03   9.923  < 2e-16 ***\n",
       "CO2          6.457e-03  2.285e-03   2.826  0.00505 ** \n",
       "CH4          1.240e-04  5.158e-04   0.240  0.81015    \n",
       "N2O         -1.653e-02  8.565e-03  -1.930  0.05467 .  \n",
       "CFC.11      -6.631e-03  1.626e-03  -4.078 5.96e-05 ***\n",
       "CFC.12       3.808e-03  1.014e-03   3.757  0.00021 ***\n",
       "TSI          9.314e-02  1.475e-02   6.313 1.10e-09 ***\n",
       "Aerosols    -1.538e+00  2.133e-01  -7.210 5.41e-12 ***\n",
       "---\n",
       "Signif. codes:  0 '***' 0.001 '**' 0.01 '*' 0.05 '.' 0.1 ' ' 1\n",
       "\n",
       "Residual standard error: 0.09171 on 275 degrees of freedom\n",
       "Multiple R-squared:  0.7509,\tAdjusted R-squared:  0.7436 \n",
       "F-statistic: 103.6 on 8 and 275 DF,  p-value: < 2.2e-16\n"
      ]
     },
     "execution_count": 18,
     "metadata": {},
     "output_type": "execute_result"
    }
   ],
   "source": [
    "summary(model1)"
   ]
  },
  {
   "cell_type": "markdown",
   "metadata": {},
   "source": [
    "Current scientific opinion is that nitrous oxide and CFC-11 are greenhouse gases: gases that are able to trap heat from the sun and contribute to the heating of the Earth. However, the regression coefficients of both the N2O and CFC-11 variables are negative, indicating that increasing atmospheric concentrations of either of these two compounds is associated with lower global temperatures."
   ]
  },
  {
   "cell_type": "markdown",
   "metadata": {},
   "source": [
    "Answer :  All of the gas concentration variables reflect human development - N2O and CFC.11 are correlated with other variables in the data set.  \n",
    "\n",
    "EXPLANATION\n",
    "\n",
    "The linear correlation of N2O and CFC.11 with other variables in the data set is quite large. The first explanation does not seem correct, as the warming effect of nitrous oxide and CFC-11 are well documented, and our regression analysis is not enough to disprove it. The second explanation is unlikely, as we have estimated eight coefficients and the intercept from 284 observations."
   ]
  },
  {
   "cell_type": "markdown",
   "metadata": {},
   "source": [
    "### Problem 2 - Understanding the Model "
   ]
  },
  {
   "cell_type": "markdown",
   "metadata": {},
   "source": [
    "Compute the correlations between all the variables in the training set. Which of the following independent variables is N2O highly correlated with (absolute correlation greater than 0.7)? Select all that apply."
   ]
  },
  {
   "cell_type": "code",
   "execution_count": 19,
   "metadata": {
    "collapsed": false
   },
   "outputs": [
    {
     "data": {
      "text/html": [
       "<table>\n",
       "<thead><tr><th></th><th scope=col>Year</th><th scope=col>Month</th><th scope=col>MEI</th><th scope=col>CO2</th><th scope=col>CH4</th><th scope=col>N2O</th><th scope=col>CFC.11</th><th scope=col>CFC.12</th><th scope=col>TSI</th><th scope=col>Aerosols</th><th scope=col>Temp</th></tr></thead>\n",
       "<tbody>\n",
       "\t<tr><th scope=row>Year</th><td> 1.00000000</td><td>-0.02794196</td><td>-0.03698768</td><td> 0.98274939</td><td> 0.91565945</td><td> 0.99384523</td><td> 0.56910643</td><td> 0.89701166</td><td> 0.17030201</td><td>-0.34524670</td><td> 0.78679714</td></tr>\n",
       "\t<tr><th scope=row>Month</th><td>-0.0279419602</td><td> 1.0000000000</td><td> 0.0008846905</td><td>-0.1067324607</td><td> 0.0185686624</td><td> 0.0136315303</td><td>-0.0131112236</td><td> 0.0006751102</td><td>-0.0346061935</td><td> 0.0148895406</td><td>-0.0998567411</td></tr>\n",
       "\t<tr><th scope=row>MEI</th><td>-0.0369876842</td><td> 0.0008846905</td><td> 1.0000000000</td><td>-0.0411471651</td><td>-0.0334193014</td><td>-0.0508197755</td><td> 0.0690004387</td><td> 0.0082855443</td><td>-0.1544919227</td><td> 0.3402377871</td><td> 0.1724707512</td></tr>\n",
       "\t<tr><th scope=row>CO2</th><td> 0.98274939</td><td>-0.10673246</td><td>-0.04114717</td><td> 1.00000000</td><td> 0.87727963</td><td> 0.97671982</td><td> 0.51405975</td><td> 0.85268963</td><td> 0.17742893</td><td>-0.35615480</td><td> 0.78852921</td></tr>\n",
       "\t<tr><th scope=row>CH4</th><td> 0.91565945</td><td> 0.01856866</td><td>-0.03341930</td><td> 0.87727963</td><td> 1.00000000</td><td> 0.89983864</td><td> 0.77990402</td><td> 0.96361625</td><td> 0.24552844</td><td>-0.26780919</td><td> 0.70325502</td></tr>\n",
       "\t<tr><th scope=row>N2O</th><td> 0.99384523</td><td> 0.01363153</td><td>-0.05081978</td><td> 0.97671982</td><td> 0.89983864</td><td> 1.00000000</td><td> 0.52247732</td><td> 0.86793078</td><td> 0.19975668</td><td>-0.33705457</td><td> 0.77863893</td></tr>\n",
       "\t<tr><th scope=row>CFC.11</th><td> 0.56910643</td><td>-0.01311122</td><td> 0.06900044</td><td> 0.51405975</td><td> 0.77990402</td><td> 0.52247732</td><td> 1.00000000</td><td> 0.86898518</td><td> 0.27204596</td><td>-0.04392120</td><td> 0.40771029</td></tr>\n",
       "\t<tr><th scope=row>CFC.12</th><td> 0.8970116635</td><td> 0.0006751102</td><td> 0.0082855443</td><td> 0.8526896272</td><td> 0.9636162478</td><td> 0.8679307757</td><td> 0.8689851828</td><td> 1.0000000000</td><td> 0.2553028138</td><td>-0.2251312440</td><td> 0.6875575483</td></tr>\n",
       "\t<tr><th scope=row>TSI</th><td> 0.17030201</td><td>-0.03460619</td><td>-0.15449192</td><td> 0.17742893</td><td> 0.24552844</td><td> 0.19975668</td><td> 0.27204596</td><td> 0.25530281</td><td> 1.00000000</td><td> 0.05211651</td><td> 0.24338269</td></tr>\n",
       "\t<tr><th scope=row>Aerosols</th><td>-0.34524670</td><td> 0.01488954</td><td> 0.34023779</td><td>-0.35615480</td><td>-0.26780919</td><td>-0.33705457</td><td>-0.04392120</td><td>-0.22513124</td><td> 0.05211651</td><td> 1.00000000</td><td>-0.38491375</td></tr>\n",
       "\t<tr><th scope=row>Temp</th><td> 0.78679714</td><td>-0.09985674</td><td> 0.17247075</td><td> 0.78852921</td><td> 0.70325502</td><td> 0.77863893</td><td> 0.40771029</td><td> 0.68755755</td><td> 0.24338269</td><td>-0.38491375</td><td> 1.00000000</td></tr>\n",
       "</tbody>\n",
       "</table>\n"
      ],
      "text/latex": [
       "\\begin{tabular}{r|lllllllllll}\n",
       "  & Year & Month & MEI & CO2 & CH4 & N2O & CFC.11 & CFC.12 & TSI & Aerosols & Temp\\\\\n",
       "\\hline\n",
       "\tYear &  1.00000000 & -0.02794196 & -0.03698768 &  0.98274939 &  0.91565945 &  0.99384523 &  0.56910643 &  0.89701166 &  0.17030201 & -0.34524670 &  0.78679714\\\\\n",
       "\tMonth & -0.0279419602 &  1.0000000000 &  0.0008846905 & -0.1067324607 &  0.0185686624 &  0.0136315303 & -0.0131112236 &  0.0006751102 & -0.0346061935 &  0.0148895406 & -0.0998567411\\\\\n",
       "\tMEI & -0.0369876842 &  0.0008846905 &  1.0000000000 & -0.0411471651 & -0.0334193014 & -0.0508197755 &  0.0690004387 &  0.0082855443 & -0.1544919227 &  0.3402377871 &  0.1724707512\\\\\n",
       "\tCO2 &  0.98274939 & -0.10673246 & -0.04114717 &  1.00000000 &  0.87727963 &  0.97671982 &  0.51405975 &  0.85268963 &  0.17742893 & -0.35615480 &  0.78852921\\\\\n",
       "\tCH4 &  0.91565945 &  0.01856866 & -0.03341930 &  0.87727963 &  1.00000000 &  0.89983864 &  0.77990402 &  0.96361625 &  0.24552844 & -0.26780919 &  0.70325502\\\\\n",
       "\tN2O &  0.99384523 &  0.01363153 & -0.05081978 &  0.97671982 &  0.89983864 &  1.00000000 &  0.52247732 &  0.86793078 &  0.19975668 & -0.33705457 &  0.77863893\\\\\n",
       "\tCFC.11 &  0.56910643 & -0.01311122 &  0.06900044 &  0.51405975 &  0.77990402 &  0.52247732 &  1.00000000 &  0.86898518 &  0.27204596 & -0.04392120 &  0.40771029\\\\\n",
       "\tCFC.12 &  0.8970116635 &  0.0006751102 &  0.0082855443 &  0.8526896272 &  0.9636162478 &  0.8679307757 &  0.8689851828 &  1.0000000000 &  0.2553028138 & -0.2251312440 &  0.6875575483\\\\\n",
       "\tTSI &  0.17030201 & -0.03460619 & -0.15449192 &  0.17742893 &  0.24552844 &  0.19975668 &  0.27204596 &  0.25530281 &  1.00000000 &  0.05211651 &  0.24338269\\\\\n",
       "\tAerosols & -0.34524670 &  0.01488954 &  0.34023779 & -0.35615480 & -0.26780919 & -0.33705457 & -0.04392120 & -0.22513124 &  0.05211651 &  1.00000000 & -0.38491375\\\\\n",
       "\tTemp &  0.78679714 & -0.09985674 &  0.17247075 &  0.78852921 &  0.70325502 &  0.77863893 &  0.40771029 &  0.68755755 &  0.24338269 & -0.38491375 &  1.00000000\\\\\n",
       "\\end{tabular}\n"
      ],
      "text/markdown": [
       "1. 1\n",
       "2. -0.0279419602466886\n",
       "3. -0.0369876841579054\n",
       "4. 0.982749392190792\n",
       "5. 0.915659451035995\n",
       "6. 0.993845230734959\n",
       "7. 0.56910643128672\n",
       "8. 0.897011663456516\n",
       "9. 0.170302014979093\n",
       "10. -0.345246704029245\n",
       "11. 0.786797136884519\n",
       "12. -0.0279419602466886\n",
       "13. 1\n",
       "14. 0.000884690506104957\n",
       "15. -0.106732460661687\n",
       "16. 0.0185686623884355\n",
       "17. 0.013631530299999\n",
       "18. -0.0131112235705166\n",
       "19. 0.000675110243317882\n",
       "20. -0.0346061935216731\n",
       "21. 0.0148895405665457\n",
       "22. -0.0998567410819309\n",
       "23. -0.0369876841579054\n",
       "24. 0.000884690506104957\n",
       "25. 1\n",
       "26. -0.0411471650694688\n",
       "27. -0.0334193014322536\n",
       "28. -0.0508197754723296\n",
       "29. 0.069000438724312\n",
       "30. 0.0082855442691995\n",
       "31. -0.154491922703152\n",
       "32. 0.340237787075898\n",
       "33. 0.172470751238139\n",
       "34. 0.982749392190792\n",
       "35. -0.106732460661687\n",
       "36. -0.0411471650694688\n",
       "37. 1\n",
       "38. 0.877279633155744\n",
       "39. 0.976719818217478\n",
       "40. 0.514059748009346\n",
       "41. 0.852689627176487\n",
       "42. 0.177428932730747\n",
       "43. -0.356154800296452\n",
       "44. 0.788529209330876\n",
       "45. 0.915659451035995\n",
       "46. 0.0185686623884355\n",
       "47. -0.0334193014322536\n",
       "48. 0.877279633155744\n",
       "49. 1\n",
       "50. 0.899838643766285\n",
       "51. 0.779904020023314\n",
       "52. 0.963616247755802\n",
       "53. 0.245528442246153\n",
       "54. -0.26780918608935\n",
       "55. 0.703255021650043\n",
       "56. 0.993845230734959\n",
       "57. 0.013631530299999\n",
       "58. -0.0508197754723296\n",
       "59. 0.976719818217478\n",
       "60. 0.899838643766285\n",
       "61. 1\n",
       "62. 0.522477318794013\n",
       "63. 0.867930775708513\n",
       "64. 0.199756679427515\n",
       "65. -0.337054570706549\n",
       "66. 0.778638929771754\n",
       "67. 0.56910643128672\n",
       "68. -0.0131112235705166\n",
       "69. 0.069000438724312\n",
       "70. 0.514059748009346\n",
       "71. 0.779904020023314\n",
       "72. 0.522477318794013\n",
       "73. 1\n",
       "74. 0.868985182783086\n",
       "75. 0.272045960296638\n",
       "76. -0.0439211981477643\n",
       "77. 0.407710289658055\n",
       "78. 0.897011663456516\n",
       "79. 0.000675110243317882\n",
       "80. 0.0082855442691995\n",
       "81. 0.852689627176487\n",
       "82. 0.963616247755802\n",
       "83. 0.867930775708513\n",
       "84. 0.868985182783086\n",
       "85. 1\n",
       "86. 0.255302813765044\n",
       "87. -0.225131243989765\n",
       "88. 0.68755754829402\n",
       "89. 0.170302014979093\n",
       "90. -0.0346061935216731\n",
       "91. -0.154491922703152\n",
       "92. 0.177428932730747\n",
       "93. 0.245528442246153\n",
       "94. 0.199756679427515\n",
       "95. 0.272045960296638\n",
       "96. 0.255302813765044\n",
       "97. 1\n",
       "98. 0.0521165081947243\n",
       "99. 0.243382687405267\n",
       "100. -0.345246704029245\n",
       "101. 0.0148895405665457\n",
       "102. 0.340237787075898\n",
       "103. -0.356154800296452\n",
       "104. -0.26780918608935\n",
       "105. -0.337054570706549\n",
       "106. -0.0439211981477643\n",
       "107. -0.225131243989765\n",
       "108. 0.0521165081947243\n",
       "109. 1\n",
       "110. -0.384913746198221\n",
       "111. 0.786797136884519\n",
       "112. -0.0998567410819309\n",
       "113. 0.172470751238139\n",
       "114. 0.788529209330876\n",
       "115. 0.703255021650043\n",
       "116. 0.778638929771754\n",
       "117. 0.407710289658055\n",
       "118. 0.68755754829402\n",
       "119. 0.243382687405267\n",
       "120. -0.384913746198221\n",
       "121. 1\n",
       "\n",
       "\n"
      ],
      "text/plain": [
       "                Year         Month           MEI         CO2         CH4\n",
       "Year      1.00000000 -0.0279419602 -0.0369876842  0.98274939  0.91565945\n",
       "Month    -0.02794196  1.0000000000  0.0008846905 -0.10673246  0.01856866\n",
       "MEI      -0.03698768  0.0008846905  1.0000000000 -0.04114717 -0.03341930\n",
       "CO2       0.98274939 -0.1067324607 -0.0411471651  1.00000000  0.87727963\n",
       "CH4       0.91565945  0.0185686624 -0.0334193014  0.87727963  1.00000000\n",
       "N2O       0.99384523  0.0136315303 -0.0508197755  0.97671982  0.89983864\n",
       "CFC.11    0.56910643 -0.0131112236  0.0690004387  0.51405975  0.77990402\n",
       "CFC.12    0.89701166  0.0006751102  0.0082855443  0.85268963  0.96361625\n",
       "TSI       0.17030201 -0.0346061935 -0.1544919227  0.17742893  0.24552844\n",
       "Aerosols -0.34524670  0.0148895406  0.3402377871 -0.35615480 -0.26780919\n",
       "Temp      0.78679714 -0.0998567411  0.1724707512  0.78852921  0.70325502\n",
       "                 N2O      CFC.11        CFC.12         TSI    Aerosols\n",
       "Year      0.99384523  0.56910643  0.8970116635  0.17030201 -0.34524670\n",
       "Month     0.01363153 -0.01311122  0.0006751102 -0.03460619  0.01488954\n",
       "MEI      -0.05081978  0.06900044  0.0082855443 -0.15449192  0.34023779\n",
       "CO2       0.97671982  0.51405975  0.8526896272  0.17742893 -0.35615480\n",
       "CH4       0.89983864  0.77990402  0.9636162478  0.24552844 -0.26780919\n",
       "N2O       1.00000000  0.52247732  0.8679307757  0.19975668 -0.33705457\n",
       "CFC.11    0.52247732  1.00000000  0.8689851828  0.27204596 -0.04392120\n",
       "CFC.12    0.86793078  0.86898518  1.0000000000  0.25530281 -0.22513124\n",
       "TSI       0.19975668  0.27204596  0.2553028138  1.00000000  0.05211651\n",
       "Aerosols -0.33705457 -0.04392120 -0.2251312440  0.05211651  1.00000000\n",
       "Temp      0.77863893  0.40771029  0.6875575483  0.24338269 -0.38491375\n",
       "                Temp\n",
       "Year      0.78679714\n",
       "Month    -0.09985674\n",
       "MEI       0.17247075\n",
       "CO2       0.78852921\n",
       "CH4       0.70325502\n",
       "N2O       0.77863893\n",
       "CFC.11    0.40771029\n",
       "CFC.12    0.68755755\n",
       "TSI       0.24338269\n",
       "Aerosols -0.38491375\n",
       "Temp      1.00000000"
      ]
     },
     "execution_count": 19,
     "metadata": {},
     "output_type": "execute_result"
    }
   ],
   "source": [
    "cor(climate2006)"
   ]
  },
  {
   "cell_type": "markdown",
   "metadata": {
    "collapsed": true
   },
   "source": [
    "### Problem 3 - Simplifying the Model "
   ]
  },
  {
   "cell_type": "markdown",
   "metadata": {},
   "source": [
    "Given that the correlations are so high, let us focus on the N2O variable and build a model with only MEI, TSI, Aerosols and N2O as independent variables. Remember to use the training set to build the model.\n",
    "\n",
    "Enter the coefficient of N2O in this reduced model:"
   ]
  },
  {
   "cell_type": "code",
   "execution_count": 20,
   "metadata": {
    "collapsed": true
   },
   "outputs": [],
   "source": [
    "model2 = lm(Temp ~ MEI + N2O + TSI + Aerosols, data=climate2006)"
   ]
  },
  {
   "cell_type": "code",
   "execution_count": 21,
   "metadata": {
    "collapsed": false,
    "scrolled": true
   },
   "outputs": [
    {
     "data": {
      "text/plain": [
       "\n",
       "Call:\n",
       "lm(formula = Temp ~ MEI + N2O + TSI + Aerosols, data = climate2006)\n",
       "\n",
       "Residuals:\n",
       "     Min       1Q   Median       3Q      Max \n",
       "-0.27916 -0.05975 -0.00595  0.05672  0.34195 \n",
       "\n",
       "Coefficients:\n",
       "              Estimate Std. Error t value Pr(>|t|)    \n",
       "(Intercept) -1.162e+02  2.022e+01  -5.747 2.37e-08 ***\n",
       "MEI          6.419e-02  6.652e-03   9.649  < 2e-16 ***\n",
       "N2O          2.532e-02  1.311e-03  19.307  < 2e-16 ***\n",
       "TSI          7.949e-02  1.487e-02   5.344 1.89e-07 ***\n",
       "Aerosols    -1.702e+00  2.180e-01  -7.806 1.19e-13 ***\n",
       "---\n",
       "Signif. codes:  0 '***' 0.001 '**' 0.01 '*' 0.05 '.' 0.1 ' ' 1\n",
       "\n",
       "Residual standard error: 0.09547 on 279 degrees of freedom\n",
       "Multiple R-squared:  0.7261,\tAdjusted R-squared:  0.7222 \n",
       "F-statistic: 184.9 on 4 and 279 DF,  p-value: < 2.2e-16\n"
      ]
     },
     "execution_count": 21,
     "metadata": {},
     "output_type": "execute_result"
    }
   ],
   "source": [
    "summary(model2)"
   ]
  },
  {
   "cell_type": "markdown",
   "metadata": {},
   "source": [
    "* Enter the coefficient of N2O in this reduced model:  0.02532\n",
    "* Enter the model R2: 0.7261"
   ]
  },
  {
   "cell_type": "markdown",
   "metadata": {},
   "source": [
    "### Problem 4 - Automatically Building the Model"
   ]
  },
  {
   "cell_type": "markdown",
   "metadata": {},
   "source": [
    "We have many variables in this problem, and as we have seen above, dropping some from the model does not decrease model quality. R provides a function, step, that will automate the procedure of trying different combinations of variables to find a good compromise of model simplicity and R2. This trade-off is formalized by the Akaike information criterion (AIC) - it can be informally thought of as the quality of the model with a penalty for the number of variables in the model.\n",
    "\n",
    "The step function has one argument - the name of the initial model. It returns a simplified model. Use the step function in R to derive a new model, with the full model as the initial model (HINT: If your initial full model was called \"climateLM\", you could create a new model with the step function by typing step(climateLM). Be sure to save your new model to a variable name so that you can look at the summary. For more information about the step function, type ?step in your R console.)\n",
    "\n",
    "Enter the R2 value of the model produced by the step function:"
   ]
  },
  {
   "cell_type": "code",
   "execution_count": 22,
   "metadata": {
    "collapsed": false
   },
   "outputs": [
    {
     "name": "stdout",
     "output_type": "stream",
     "text": [
      "Start:  AIC=-1348.16\n",
      "Temp ~ MEI + CO2 + CH4 + N2O + CFC.11 + CFC.12 + TSI + Aerosols\n",
      "\n",
      "           Df Sum of Sq    RSS     AIC\n",
      "- CH4       1   0.00049 2.3135 -1350.1\n",
      "<none>                  2.3130 -1348.2\n",
      "- N2O       1   0.03132 2.3443 -1346.3\n",
      "- CO2       1   0.06719 2.3802 -1342.0\n",
      "- CFC.12    1   0.11874 2.4318 -1335.9\n",
      "- CFC.11    1   0.13986 2.4529 -1333.5\n",
      "- TSI       1   0.33516 2.6482 -1311.7\n",
      "- Aerosols  1   0.43727 2.7503 -1301.0\n",
      "- MEI       1   0.82823 3.1412 -1263.2\n",
      "\n",
      "Step:  AIC=-1350.1\n",
      "Temp ~ MEI + CO2 + N2O + CFC.11 + CFC.12 + TSI + Aerosols\n",
      "\n",
      "           Df Sum of Sq    RSS     AIC\n",
      "<none>                  2.3135 -1350.1\n",
      "- N2O       1   0.03133 2.3448 -1348.3\n",
      "- CO2       1   0.06672 2.3802 -1344.0\n",
      "- CFC.12    1   0.13023 2.4437 -1336.5\n",
      "- CFC.11    1   0.13938 2.4529 -1335.5\n",
      "- TSI       1   0.33500 2.6485 -1313.7\n",
      "- Aerosols  1   0.43987 2.7534 -1302.7\n",
      "- MEI       1   0.83118 3.1447 -1264.9\n"
     ]
    }
   ],
   "source": [
    "Nmodel1 = step(model1)"
   ]
  },
  {
   "cell_type": "code",
   "execution_count": 23,
   "metadata": {
    "collapsed": false
   },
   "outputs": [
    {
     "data": {
      "text/plain": [
       "\n",
       "Call:\n",
       "lm(formula = Temp ~ MEI + CO2 + N2O + CFC.11 + CFC.12 + TSI + \n",
       "    Aerosols, data = climate2006)\n",
       "\n",
       "Residuals:\n",
       "     Min       1Q   Median       3Q      Max \n",
       "-0.25770 -0.05994 -0.00104  0.05588  0.32203 \n",
       "\n",
       "Coefficients:\n",
       "              Estimate Std. Error t value Pr(>|t|)    \n",
       "(Intercept) -1.245e+02  1.985e+01  -6.273 1.37e-09 ***\n",
       "MEI          6.407e-02  6.434e-03   9.958  < 2e-16 ***\n",
       "CO2          6.402e-03  2.269e-03   2.821 0.005129 ** \n",
       "N2O         -1.602e-02  8.287e-03  -1.933 0.054234 .  \n",
       "CFC.11      -6.609e-03  1.621e-03  -4.078 5.95e-05 ***\n",
       "CFC.12       3.868e-03  9.812e-04   3.942 0.000103 ***\n",
       "TSI          9.312e-02  1.473e-02   6.322 1.04e-09 ***\n",
       "Aerosols    -1.540e+00  2.126e-01  -7.244 4.36e-12 ***\n",
       "---\n",
       "Signif. codes:  0 '***' 0.001 '**' 0.01 '*' 0.05 '.' 0.1 ' ' 1\n",
       "\n",
       "Residual standard error: 0.09155 on 276 degrees of freedom\n",
       "Multiple R-squared:  0.7508,\tAdjusted R-squared:  0.7445 \n",
       "F-statistic: 118.8 on 7 and 276 DF,  p-value: < 2.2e-16\n"
      ]
     },
     "execution_count": 23,
     "metadata": {},
     "output_type": "execute_result"
    }
   ],
   "source": [
    "summary(Nmodel1)"
   ]
  },
  {
   "cell_type": "code",
   "execution_count": 24,
   "metadata": {
    "collapsed": false
   },
   "outputs": [
    {
     "data": {
      "text/plain": [
       "\n",
       "Call:\n",
       "lm(formula = Temp ~ MEI + CO2 + CH4 + N2O + CFC.11 + CFC.12 + \n",
       "    TSI + Aerosols, data = climate2006)\n",
       "\n",
       "Residuals:\n",
       "     Min       1Q   Median       3Q      Max \n",
       "-0.25888 -0.05913 -0.00082  0.05649  0.32433 \n",
       "\n",
       "Coefficients:\n",
       "              Estimate Std. Error t value Pr(>|t|)    \n",
       "(Intercept) -1.246e+02  1.989e+01  -6.265 1.43e-09 ***\n",
       "MEI          6.421e-02  6.470e-03   9.923  < 2e-16 ***\n",
       "CO2          6.457e-03  2.285e-03   2.826  0.00505 ** \n",
       "CH4          1.240e-04  5.158e-04   0.240  0.81015    \n",
       "N2O         -1.653e-02  8.565e-03  -1.930  0.05467 .  \n",
       "CFC.11      -6.631e-03  1.626e-03  -4.078 5.96e-05 ***\n",
       "CFC.12       3.808e-03  1.014e-03   3.757  0.00021 ***\n",
       "TSI          9.314e-02  1.475e-02   6.313 1.10e-09 ***\n",
       "Aerosols    -1.538e+00  2.133e-01  -7.210 5.41e-12 ***\n",
       "---\n",
       "Signif. codes:  0 '***' 0.001 '**' 0.01 '*' 0.05 '.' 0.1 ' ' 1\n",
       "\n",
       "Residual standard error: 0.09171 on 275 degrees of freedom\n",
       "Multiple R-squared:  0.7509,\tAdjusted R-squared:  0.7436 \n",
       "F-statistic: 103.6 on 8 and 275 DF,  p-value: < 2.2e-16\n"
      ]
     },
     "execution_count": 24,
     "metadata": {},
     "output_type": "execute_result"
    }
   ],
   "source": [
    "summary(model1)"
   ]
  },
  {
   "cell_type": "markdown",
   "metadata": {},
   "source": [
    "### Problem 5 - Testing on Unseen Data"
   ]
  },
  {
   "cell_type": "markdown",
   "metadata": {},
   "source": [
    "We have developed an understanding of how well we can fit a linear regression to the training data, but does the model quality hold when applied to unseen data?\n",
    "\n",
    "Using the model produced from the step function, calculate temperature predictions for the testing data set, using the predict function.\n",
    "\n",
    "Enter the testing set R2:"
   ]
  },
  {
   "cell_type": "code",
   "execution_count": 25,
   "metadata": {
    "collapsed": true
   },
   "outputs": [],
   "source": [
    "predictTest = predict(Nmodel1 , newdata = climateafter2007)"
   ]
  },
  {
   "cell_type": "code",
   "execution_count": 27,
   "metadata": {
    "collapsed": false
   },
   "outputs": [
    {
     "data": {
      "text/html": [
       "<dl class=dl-horizontal>\n",
       "\t<dt>285</dt>\n",
       "\t\t<dd>0.467780765862034</dd>\n",
       "\t<dt>286</dt>\n",
       "\t\t<dd>0.443540423387233</dd>\n",
       "\t<dt>287</dt>\n",
       "\t\t<dd>0.42655405966952</dd>\n",
       "\t<dt>288</dt>\n",
       "\t\t<dd>0.429916210439679</dd>\n",
       "\t<dt>289</dt>\n",
       "\t\t<dd>0.445511274787343</dd>\n",
       "\t<dt>290</dt>\n",
       "\t\t<dd>0.415142182477834</dd>\n",
       "\t<dt>291</dt>\n",
       "\t\t<dd>0.409736650864414</dd>\n",
       "\t<dt>292</dt>\n",
       "\t\t<dd>0.383939042266498</dd>\n",
       "\t<dt>293</dt>\n",
       "\t\t<dd>0.325559538377011</dd>\n",
       "\t<dt>294</dt>\n",
       "\t\t<dd>0.327414734164158</dd>\n",
       "\t<dt>295</dt>\n",
       "\t\t<dd>0.323140084952702</dd>\n",
       "\t<dt>296</dt>\n",
       "\t\t<dd>0.33167039650051</dd>\n",
       "\t<dt>297</dt>\n",
       "\t\t<dd>0.352213416475199</dd>\n",
       "\t<dt>298</dt>\n",
       "\t\t<dd>0.331312852295068</dd>\n",
       "\t<dt>299</dt>\n",
       "\t\t<dd>0.314211178097669</dd>\n",
       "\t<dt>300</dt>\n",
       "\t\t<dd>0.370341011265929</dd>\n",
       "\t<dt>301</dt>\n",
       "\t\t<dd>0.416221271631998</dd>\n",
       "\t<dt>302</dt>\n",
       "\t\t<dd>0.439145790048415</dd>\n",
       "\t<dt>303</dt>\n",
       "\t\t<dd>0.423796533033149</dd>\n",
       "\t<dt>304</dt>\n",
       "\t\t<dd>0.39136790903363</dd>\n",
       "\t<dt>305</dt>\n",
       "\t\t<dd>0.358761466878733</dd>\n",
       "\t<dt>306</dt>\n",
       "\t\t<dd>0.345199074288732</dd>\n",
       "\t<dt>307</dt>\n",
       "\t\t<dd>0.360708690747739</dd>\n",
       "\t<dt>308</dt>\n",
       "\t\t<dd>0.363807628911292</dd>\n",
       "</dl>\n"
      ],
      "text/latex": [
       "\\begin{description*}\n",
       "\\item[285] 0.467780765862034\n",
       "\\item[286] 0.443540423387233\n",
       "\\item[287] 0.42655405966952\n",
       "\\item[288] 0.429916210439679\n",
       "\\item[289] 0.445511274787343\n",
       "\\item[290] 0.415142182477834\n",
       "\\item[291] 0.409736650864414\n",
       "\\item[292] 0.383939042266498\n",
       "\\item[293] 0.325559538377011\n",
       "\\item[294] 0.327414734164158\n",
       "\\item[295] 0.323140084952702\n",
       "\\item[296] 0.33167039650051\n",
       "\\item[297] 0.352213416475199\n",
       "\\item[298] 0.331312852295068\n",
       "\\item[299] 0.314211178097669\n",
       "\\item[300] 0.370341011265929\n",
       "\\item[301] 0.416221271631998\n",
       "\\item[302] 0.439145790048415\n",
       "\\item[303] 0.423796533033149\n",
       "\\item[304] 0.39136790903363\n",
       "\\item[305] 0.358761466878733\n",
       "\\item[306] 0.345199074288732\n",
       "\\item[307] 0.360708690747739\n",
       "\\item[308] 0.363807628911292\n",
       "\\end{description*}\n"
      ],
      "text/markdown": [
       "285\n",
       ":   0.467780765862034286\n",
       ":   0.443540423387233287\n",
       ":   0.42655405966952288\n",
       ":   0.429916210439679289\n",
       ":   0.445511274787343290\n",
       ":   0.415142182477834291\n",
       ":   0.409736650864414292\n",
       ":   0.383939042266498293\n",
       ":   0.325559538377011294\n",
       ":   0.327414734164158295\n",
       ":   0.323140084952702296\n",
       ":   0.33167039650051297\n",
       ":   0.352213416475199298\n",
       ":   0.331312852295068299\n",
       ":   0.314211178097669300\n",
       ":   0.370341011265929301\n",
       ":   0.416221271631998302\n",
       ":   0.439145790048415303\n",
       ":   0.423796533033149304\n",
       ":   0.39136790903363305\n",
       ":   0.358761466878733306\n",
       ":   0.345199074288732307\n",
       ":   0.360708690747739308\n",
       ":   0.363807628911292\n",
       "\n"
      ],
      "text/plain": [
       "      285       286       287       288       289       290       291       292 \n",
       "0.4677808 0.4435404 0.4265541 0.4299162 0.4455113 0.4151422 0.4097367 0.3839390 \n",
       "      293       294       295       296       297       298       299       300 \n",
       "0.3255595 0.3274147 0.3231401 0.3316704 0.3522134 0.3313129 0.3142112 0.3703410 \n",
       "      301       302       303       304       305       306       307       308 \n",
       "0.4162213 0.4391458 0.4237965 0.3913679 0.3587615 0.3451991 0.3607087 0.3638076 "
      ]
     },
     "execution_count": 27,
     "metadata": {},
     "output_type": "execute_result"
    }
   ],
   "source": [
    "predictTest"
   ]
  },
  {
   "cell_type": "code",
   "execution_count": 28,
   "metadata": {
    "collapsed": true
   },
   "outputs": [],
   "source": [
    "SSEpredict = sum((climateafter2007$Temp - predictTest)^2)"
   ]
  },
  {
   "cell_type": "code",
   "execution_count": 30,
   "metadata": {
    "collapsed": false
   },
   "outputs": [],
   "source": [
    "SSTpredict = sum((climateafter2007$Temp - mean(climate2006$Temp))^2)"
   ]
  },
  {
   "cell_type": "code",
   "execution_count": 31,
   "metadata": {
    "collapsed": false
   },
   "outputs": [
    {
     "data": {
      "text/html": [
       "0.628605122509888"
      ],
      "text/latex": [
       "0.628605122509888"
      ],
      "text/markdown": [
       "0.628605122509888"
      ],
      "text/plain": [
       "[1] 0.6286051"
      ]
     },
     "execution_count": 31,
     "metadata": {},
     "output_type": "execute_result"
    }
   ],
   "source": [
    "1-SSEpredict/SSTpredict"
   ]
  },
  {
   "cell_type": "code",
   "execution_count": null,
   "metadata": {
    "collapsed": true
   },
   "outputs": [],
   "source": []
  }
 ],
 "metadata": {
  "kernelspec": {
   "display_name": "R",
   "language": "R",
   "name": "ir"
  },
  "language_info": {
   "codemirror_mode": "r",
   "file_extension": ".r",
   "mimetype": "text/x-r-source",
   "name": "R",
   "pygments_lexer": "r",
   "version": "3.1.3"
  }
 },
 "nbformat": 4,
 "nbformat_minor": 0
}
