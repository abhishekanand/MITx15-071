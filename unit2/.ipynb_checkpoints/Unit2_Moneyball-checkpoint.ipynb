{
 "cells": [
  {
   "cell_type": "markdown",
   "metadata": {},
   "source": [
    "## Moneyball: The Power of Sports Analytics \n"
   ]
  },
  {
   "cell_type": "markdown",
   "metadata": {},
   "source": [
    "In this lecture, we will be using the dataset baseball.csv. Download this dataset to follow along in R as we build regression models. This data comes from Baseball-Reference.com."
   ]
  },
  {
   "cell_type": "code",
   "execution_count": 2,
   "metadata": {
    "collapsed": false
   },
   "outputs": [],
   "source": [
    "baseball = read.csv(\"baseball.csv\")"
   ]
  },
  {
   "cell_type": "code",
   "execution_count": 3,
   "metadata": {
    "collapsed": false
   },
   "outputs": [
    {
     "name": "stdout",
     "output_type": "stream",
     "text": [
      "'data.frame':\t1232 obs. of  15 variables:\n",
      " $ Team        : Factor w/ 39 levels \"ANA\",\"ARI\",\"ATL\",..: 2 3 4 5 7 8 9 10 11 12 ...\n",
      " $ League      : Factor w/ 2 levels \"AL\",\"NL\": 2 2 1 1 2 1 2 1 2 1 ...\n",
      " $ Year        : int  2012 2012 2012 2012 2012 2012 2012 2012 2012 2012 ...\n",
      " $ RS          : int  734 700 712 734 613 748 669 667 758 726 ...\n",
      " $ RA          : int  688 600 705 806 759 676 588 845 890 670 ...\n",
      " $ W           : int  81 94 93 69 61 85 97 68 64 88 ...\n",
      " $ OBP         : num  0.328 0.32 0.311 0.315 0.302 0.318 0.315 0.324 0.33 0.335 ...\n",
      " $ SLG         : num  0.418 0.389 0.417 0.415 0.378 0.422 0.411 0.381 0.436 0.422 ...\n",
      " $ BA          : num  0.259 0.247 0.247 0.26 0.24 0.255 0.251 0.251 0.274 0.268 ...\n",
      " $ Playoffs    : int  0 1 1 0 0 0 1 0 0 1 ...\n",
      " $ RankSeason  : int  NA 4 5 NA NA NA 2 NA NA 6 ...\n",
      " $ RankPlayoffs: int  NA 5 4 NA NA NA 4 NA NA 2 ...\n",
      " $ G           : int  162 162 162 162 162 162 162 162 162 162 ...\n",
      " $ OOBP        : num  0.317 0.306 0.315 0.331 0.335 0.319 0.305 0.336 0.357 0.314 ...\n",
      " $ OSLG        : num  0.415 0.378 0.403 0.428 0.424 0.405 0.39 0.43 0.47 0.402 ...\n"
     ]
    }
   ],
   "source": [
    "str(baseball)"
   ]
  },
  {
   "cell_type": "markdown",
   "metadata": {},
   "source": [
    "This data set includes an observation for every team and year pair from 1962 to 2012 for all seasons with 162 games.\n",
    "We have 15 variables in our data set, including \n",
    "* Runs Scored, RS,\n",
    "* Runs Allowed, RA,\n",
    "* and Wins, W.\n",
    "\n",
    "We also have several other variables that we'll use when building models later on in the lecture."
   ]
  },
  {
   "cell_type": "markdown",
   "metadata": {},
   "source": [
    "## subsetting our data to only include the years before 2002. "
   ]
  },
  {
   "cell_type": "code",
   "execution_count": 4,
   "metadata": {
    "collapsed": true
   },
   "outputs": [],
   "source": [
    "moneyball = subset(baseball, Year < 2002)"
   ]
  },
  {
   "cell_type": "code",
   "execution_count": 5,
   "metadata": {
    "collapsed": false
   },
   "outputs": [
    {
     "name": "stdout",
     "output_type": "stream",
     "text": [
      "'data.frame':\t902 obs. of  15 variables:\n",
      " $ Team        : Factor w/ 39 levels \"ANA\",\"ARI\",\"ATL\",..: 1 2 3 4 5 7 8 9 10 11 ...\n",
      " $ League      : Factor w/ 2 levels \"AL\",\"NL\": 1 2 2 1 1 2 1 2 1 2 ...\n",
      " $ Year        : int  2001 2001 2001 2001 2001 2001 2001 2001 2001 2001 ...\n",
      " $ RS          : int  691 818 729 687 772 777 798 735 897 923 ...\n",
      " $ RA          : int  730 677 643 829 745 701 795 850 821 906 ...\n",
      " $ W           : int  75 92 88 63 82 88 83 66 91 73 ...\n",
      " $ OBP         : num  0.327 0.341 0.324 0.319 0.334 0.336 0.334 0.324 0.35 0.354 ...\n",
      " $ SLG         : num  0.405 0.442 0.412 0.38 0.439 0.43 0.451 0.419 0.458 0.483 ...\n",
      " $ BA          : num  0.261 0.267 0.26 0.248 0.266 0.261 0.268 0.262 0.278 0.292 ...\n",
      " $ Playoffs    : int  0 1 1 0 0 0 0 0 1 0 ...\n",
      " $ RankSeason  : int  NA 5 7 NA NA NA NA NA 6 NA ...\n",
      " $ RankPlayoffs: int  NA 1 3 NA NA NA NA NA 4 NA ...\n",
      " $ G           : int  162 162 162 162 161 162 162 162 162 162 ...\n",
      " $ OOBP        : num  0.331 0.311 0.314 0.337 0.329 0.321 0.334 0.341 0.341 0.35 ...\n",
      " $ OSLG        : num  0.412 0.404 0.384 0.439 0.393 0.398 0.427 0.455 0.417 0.48 ...\n"
     ]
    }
   ],
   "source": [
    "str(moneyball)"
   ]
  },
  {
   "cell_type": "markdown",
   "metadata": {},
   "source": [
    "If we take a look at the structure of moneyball, we can see that we now have 902 observations of the same 15 variables."
   ]
  },
  {
   "cell_type": "markdown",
   "metadata": {},
   "source": [
    "###  We want to build a linear regression equation to predict wins using the difference between runs scored and runs allowed."
   ]
  },
  {
   "cell_type": "markdown",
   "metadata": {},
   "source": [
    " new variable  we'll call it ``moneyball$RD``, for run difference, and set it equal to ``moneyball$RS``, runs scored, minus ``moneyball$RA``, runs allowed. "
   ]
  },
  {
   "cell_type": "code",
   "execution_count": 6,
   "metadata": {
    "collapsed": true
   },
   "outputs": [],
   "source": [
    "moneyball$RD = moneyball$RS - moneyball$RA"
   ]
  },
  {
   "cell_type": "code",
   "execution_count": 7,
   "metadata": {
    "collapsed": false
   },
   "outputs": [
    {
     "name": "stdout",
     "output_type": "stream",
     "text": [
      "'data.frame':\t902 obs. of  16 variables:\n",
      " $ Team        : Factor w/ 39 levels \"ANA\",\"ARI\",\"ATL\",..: 1 2 3 4 5 7 8 9 10 11 ...\n",
      " $ League      : Factor w/ 2 levels \"AL\",\"NL\": 1 2 2 1 1 2 1 2 1 2 ...\n",
      " $ Year        : int  2001 2001 2001 2001 2001 2001 2001 2001 2001 2001 ...\n",
      " $ RS          : int  691 818 729 687 772 777 798 735 897 923 ...\n",
      " $ RA          : int  730 677 643 829 745 701 795 850 821 906 ...\n",
      " $ W           : int  75 92 88 63 82 88 83 66 91 73 ...\n",
      " $ OBP         : num  0.327 0.341 0.324 0.319 0.334 0.336 0.334 0.324 0.35 0.354 ...\n",
      " $ SLG         : num  0.405 0.442 0.412 0.38 0.439 0.43 0.451 0.419 0.458 0.483 ...\n",
      " $ BA          : num  0.261 0.267 0.26 0.248 0.266 0.261 0.268 0.262 0.278 0.292 ...\n",
      " $ Playoffs    : int  0 1 1 0 0 0 0 0 1 0 ...\n",
      " $ RankSeason  : int  NA 5 7 NA NA NA NA NA 6 NA ...\n",
      " $ RankPlayoffs: int  NA 1 3 NA NA NA NA NA 4 NA ...\n",
      " $ G           : int  162 162 162 162 161 162 162 162 162 162 ...\n",
      " $ OOBP        : num  0.331 0.311 0.314 0.337 0.329 0.321 0.334 0.341 0.341 0.35 ...\n",
      " $ OSLG        : num  0.412 0.404 0.384 0.439 0.393 0.398 0.427 0.455 0.417 0.48 ...\n",
      " $ RD          : int  -39 141 86 -142 27 76 3 -115 76 17 ...\n"
     ]
    }
   ],
   "source": [
    "str(moneyball)"
   ]
  },
  {
   "cell_type": "markdown",
   "metadata": {},
   "source": [
    "One new variable is created .- RD "
   ]
  },
  {
   "cell_type": "markdown",
   "metadata": {},
   "source": [
    "Now, before we build the linear regression equation, let's visually check to see if there's a linear relationship between Run Difference and Wins.\n",
    "\n",
    "We'll do that by creating a scatter plot with the plot function.\n",
    "\n",
    "On the x-axis, we'll put RD, Run Difference, and on the y-axis, we'll put W, Wins."
   ]
  },
  {
   "cell_type": "code",
   "execution_count": 9,
   "metadata": {
    "collapsed": false
   },
   "outputs": [
    {
     "data": {
      "application/pdf": "[encoded data removed]",
      "image/jpeg": "[encoded data removed]",
      "image/png": "[encoded data removed]",
      "text/plain": [
       "plot without title"
      ]
     },
     "metadata": {
      "image/svg+xml": {
       "isolated": true
      }
     },
     "output_type": "display_data"
    }
   ],
   "source": [
    "# Scatterplot to check for linear relationship\n",
    "plot(moneyball$RD, moneyball$W)"
   ]
  },
  {
   "cell_type": "code",
   "execution_count": 10,
   "metadata": {
    "collapsed": false
   },
   "outputs": [
    {
     "data": {
      "text/plain": [
       "\n",
       "Call:\n",
       "lm(formula = W ~ RD, data = moneyball)\n",
       "\n",
       "Residuals:\n",
       "     Min       1Q   Median       3Q      Max \n",
       "-14.2662  -2.6509   0.1234   2.9364  11.6570 \n",
       "\n",
       "Coefficients:\n",
       "             Estimate Std. Error t value Pr(>|t|)    \n",
       "(Intercept) 80.881375   0.131157  616.67   <2e-16 ***\n",
       "RD           0.105766   0.001297   81.55   <2e-16 ***\n",
       "---\n",
       "Signif. codes:  0 '***' 0.001 '**' 0.01 '*' 0.05 '.' 0.1 ' ' 1\n",
       "\n",
       "Residual standard error: 3.939 on 900 degrees of freedom\n",
       "Multiple R-squared:  0.8808,\tAdjusted R-squared:  0.8807 \n",
       "F-statistic:  6651 on 1 and 900 DF,  p-value: < 2.2e-16\n"
      ]
     },
     "execution_count": 10,
     "metadata": {},
     "output_type": "execute_result"
    }
   ],
   "source": [
    "# Regression model to predict wins\n",
    "WinsReg = lm(W ~ RD, data=moneyball)\n",
    "summary(WinsReg)"
   ]
  },
  {
   "cell_type": "markdown",
   "metadata": {},
   "source": [
    "Win Equation  :\n",
    "\n",
    "W = Intercept + Coefficients of RD * RD\n",
    "w = 80.881375 + 0.105766 * RD \n",
    "\n",
    "To qualify playoff w >= 95 (Hypothisis ) \n",
    "\n",
    " 80.881375 + 0.105766 * RD >= 95 \n",
    " \n",
    " RD >= (95 -80.881375 )/0.105766  = 133.4 ~ 135  \n",
    " \n",
    "This is very close to the claim made in Moneyball that a team needs to score at least 135 more runs than they allow to win at least 95 games.\n",
    "\n",
    "So by using linear regression and data, we were able to verify Paul DePodesta's claim.\n",
    " "
   ]
  },
  {
   "cell_type": "code",
   "execution_count": 12,
   "metadata": {
    "collapsed": false
   },
   "outputs": [
    {
     "data": {
      "text/html": [
       "91.352209"
      ],
      "text/latex": [
       "91.352209"
      ],
      "text/markdown": [
       "91.352209"
      ],
      "text/plain": [
       "[1] 91.35221"
      ]
     },
     "execution_count": 12,
     "metadata": {},
     "output_type": "execute_result"
    }
   ],
   "source": [
    "# If a baseball team scores 713 runs and allows 614 runs, how many games do we expect the team to win?\n",
    "\n",
    "# Using the linear regression model constructed during the lecture, enter the number of games we expect the team to win:\n",
    "80.881375 + 0.105766 * (713-614)"
   ]
  },
  {
   "cell_type": "markdown",
   "metadata": {},
   "source": [
    "###  Predicting Runs"
   ]
  },
  {
   "cell_type": "code",
   "execution_count": 13,
   "metadata": {
    "collapsed": false
   },
   "outputs": [
    {
     "name": "stdout",
     "output_type": "stream",
     "text": [
      "'data.frame':\t902 obs. of  16 variables:\n",
      " $ Team        : Factor w/ 39 levels \"ANA\",\"ARI\",\"ATL\",..: 1 2 3 4 5 7 8 9 10 11 ...\n",
      " $ League      : Factor w/ 2 levels \"AL\",\"NL\": 1 2 2 1 1 2 1 2 1 2 ...\n",
      " $ Year        : int  2001 2001 2001 2001 2001 2001 2001 2001 2001 2001 ...\n",
      " $ RS          : int  691 818 729 687 772 777 798 735 897 923 ...\n",
      " $ RA          : int  730 677 643 829 745 701 795 850 821 906 ...\n",
      " $ W           : int  75 92 88 63 82 88 83 66 91 73 ...\n",
      " $ OBP         : num  0.327 0.341 0.324 0.319 0.334 0.336 0.334 0.324 0.35 0.354 ...\n",
      " $ SLG         : num  0.405 0.442 0.412 0.38 0.439 0.43 0.451 0.419 0.458 0.483 ...\n",
      " $ BA          : num  0.261 0.267 0.26 0.248 0.266 0.261 0.268 0.262 0.278 0.292 ...\n",
      " $ Playoffs    : int  0 1 1 0 0 0 0 0 1 0 ...\n",
      " $ RankSeason  : int  NA 5 7 NA NA NA NA NA 6 NA ...\n",
      " $ RankPlayoffs: int  NA 1 3 NA NA NA NA NA 4 NA ...\n",
      " $ G           : int  162 162 162 162 161 162 162 162 162 162 ...\n",
      " $ OOBP        : num  0.331 0.311 0.314 0.337 0.329 0.321 0.334 0.341 0.341 0.35 ...\n",
      " $ OSLG        : num  0.412 0.404 0.384 0.439 0.393 0.398 0.427 0.455 0.417 0.48 ...\n",
      " $ RD          : int  -39 141 86 -142 27 76 3 -115 76 17 ...\n"
     ]
    }
   ],
   "source": [
    "str(moneyball)"
   ]
  },
  {
   "cell_type": "markdown",
   "metadata": {},
   "source": [
    "Our data set has many variables, including runs scored, RS, on-base percentage, OBP, slugging percentage, SLG,\n",
    "and batting average, BA.\n",
    "We want to see if we can use linear regression to predict runs scored, RS, using these three hitting statistics--\n",
    "on-base percentage, slugging percentage and batting average."
   ]
  },
  {
   "cell_type": "markdown",
   "metadata": {},
   "source": [
    "let's build a linear regression equation. We'll call it RunsReg, and we'll use the lm function\n",
    "to predict runs scored, RS, using OBP, SLG, and BA.\n",
    "We'll use the data set moneyball."
   ]
  },
  {
   "cell_type": "code",
   "execution_count": 14,
   "metadata": {
    "collapsed": false
   },
   "outputs": [
    {
     "data": {
      "text/plain": [
       "\n",
       "Call:\n",
       "lm(formula = RS ~ OBP + SLG + BA, data = moneyball)\n",
       "\n",
       "Residuals:\n",
       "    Min      1Q  Median      3Q     Max \n",
       "-70.941 -17.247  -0.621  16.754  90.998 \n",
       "\n",
       "Coefficients:\n",
       "            Estimate Std. Error t value Pr(>|t|)    \n",
       "(Intercept)  -788.46      19.70 -40.029  < 2e-16 ***\n",
       "OBP          2917.42     110.47  26.410  < 2e-16 ***\n",
       "SLG          1637.93      45.99  35.612  < 2e-16 ***\n",
       "BA           -368.97     130.58  -2.826  0.00482 ** \n",
       "---\n",
       "Signif. codes:  0 '***' 0.001 '**' 0.01 '*' 0.05 '.' 0.1 ' ' 1\n",
       "\n",
       "Residual standard error: 24.69 on 898 degrees of freedom\n",
       "Multiple R-squared:  0.9302,\tAdjusted R-squared:   0.93 \n",
       "F-statistic:  3989 on 3 and 898 DF,  p-value: < 2.2e-16\n"
      ]
     },
     "execution_count": 14,
     "metadata": {},
     "output_type": "execute_result"
    }
   ],
   "source": [
    "# Regression model to predict runs scored\n",
    "RunsReg = lm(RS ~ OBP + SLG + BA, data=moneyball)\n",
    "summary(RunsReg)"
   ]
  },
  {
   "cell_type": "markdown",
   "metadata": {},
   "source": [
    "If we take a look at the summary of our regression equation,we can see that all of our independent variables are significant, and our R-squared is 0.93.\n",
    "\n",
    "But if we look at our coefficients, we can see that the coefficient for batting average is negative.\n",
    "\n",
    "This implies that, all else being equal, a team with a lower batting average will score more runs, which is a little counterintuitive. What's going on here is a case of multicollinearity. These three hitting statistics are highly correlated, so it's hard to interpret the coefficients of our model."
   ]
  },
  {
   "cell_type": "markdown",
   "metadata": {},
   "source": [
    "#### Let's try removing batting average, the variable with the least significance, to see what happens to our model."
   ]
  },
  {
   "cell_type": "code",
   "execution_count": 15,
   "metadata": {
    "collapsed": false
   },
   "outputs": [
    {
     "data": {
      "text/plain": [
       "\n",
       "Call:\n",
       "lm(formula = RS ~ OBP + SLG, data = moneyball)\n",
       "\n",
       "Residuals:\n",
       "    Min      1Q  Median      3Q     Max \n",
       "-70.838 -17.174  -1.108  16.770  90.036 \n",
       "\n",
       "Coefficients:\n",
       "            Estimate Std. Error t value Pr(>|t|)    \n",
       "(Intercept)  -804.63      18.92  -42.53   <2e-16 ***\n",
       "OBP          2737.77      90.68   30.19   <2e-16 ***\n",
       "SLG          1584.91      42.16   37.60   <2e-16 ***\n",
       "---\n",
       "Signif. codes:  0 '***' 0.001 '**' 0.01 '*' 0.05 '.' 0.1 ' ' 1\n",
       "\n",
       "Residual standard error: 24.79 on 899 degrees of freedom\n",
       "Multiple R-squared:  0.9296,\tAdjusted R-squared:  0.9294 \n",
       "F-statistic:  5934 on 2 and 899 DF,  p-value: < 2.2e-16\n"
      ]
     },
     "execution_count": 15,
     "metadata": {},
     "output_type": "execute_result"
    }
   ],
   "source": [
    "RunsReg2 = lm(RS ~ OBP + SLG, data=moneyball)\n",
    "summary(RunsReg2)"
   ]
  },
  {
   "cell_type": "markdown",
   "metadata": {},
   "source": [
    "We can see that our independent variables are still very significant, the coefficients are both positive\n",
    "as we expect, and our R-squared is still about 0.93. So this model is simpler, with only two independent variables,\n",
    "and has about the same R-squared.\n",
    "\n",
    "Overall a better model. You could experiment and see that if we'd removed on-base percentage or slugging percentage instead of batting average, our R-squared would have decreased. \n",
    "\n",
    "If we look at the coefficients of our model, we can see that on-base percentage has a larger coefficient than slugging percentage. Since these variables are on about the same scale, this tells us that on-base percentage is probably\n",
    "worth more than slugging percentage. \n",
    "\n",
    "So by using linear regression, we're able to verify the claims made in Moneyball: that batting average is overvalued,\n",
    "on-base percentage is the most important, and slugging percentage is important for predicting runs scored.\n"
   ]
  },
  {
   "cell_type": "code",
   "execution_count": null,
   "metadata": {
    "collapsed": true
   },
   "outputs": [],
   "source": []
  },
  {
   "cell_type": "markdown",
   "metadata": {},
   "source": [
    "We can create a very similar model\n",
    "to predict runs allowed, or opponent runs.\n",
    "This model uses pitching statistics: opponents on-base percentage, or OOBP, and opponents slugging percentage, or OSLG.\n",
    "\n",
    "These statistics are computed in the same way as on-base percentage and slugging percentage, but they use the actions of the opposing batters against our team's pitcher and fielders.\n",
    "\n",
    "Using our data set in R, we can build a linear regression model to predict runs allowed, using opponents on-base percentage and opponents slugging percentage. \n",
    "\n",
    "* Run Alloewed = -837.38 +2913.60(OOBP) + 1514.29(OSLG)\n",
    "\n",
    "This is, again, a very strong model with an R-squared value of 0.91, and both variables are significant.\n",
    "The key message here is that simple models, using only a couple independent variables, can be constructed to answer someof the most important questions in baseball.\n"
   ]
  },
  {
   "cell_type": "markdown",
   "metadata": {},
   "source": [
    "#### Quiz "
   ]
  },
  {
   "cell_type": "markdown",
   "metadata": {},
   "source": [
    "If a baseball team's OBP is 0.311 and SLG is 0.405, how many runs do we expect the team to score?\n",
    "\n",
    "Using the linear regression model constructed during the lecture (the one that uses OBP and SLG as independent variables), enter the number of runs we expect the team to score:"
   ]
  },
  {
   "cell_type": "code",
   "execution_count": 19,
   "metadata": {
    "collapsed": false
   },
   "outputs": [
    {
     "data": {
      "text/html": [
       "688.70502"
      ],
      "text/latex": [
       "688.70502"
      ],
      "text/markdown": [
       "688.70502"
      ],
      "text/plain": [
       "[1] 688.705"
      ]
     },
     "execution_count": 19,
     "metadata": {},
     "output_type": "execute_result"
    }
   ],
   "source": [
    "-804.63 + 2737.77*0.311+ 1584.91*0.405"
   ]
  },
  {
   "cell_type": "markdown",
   "metadata": {},
   "source": [
    "If a baseball team's opponents OBP (OOBP) is 0.297 and oppenents SLG (OSLG) is 0.370, how many runs do we expect the team to allow?\n",
    "\n",
    "Using the linear regression model discussed during the lecture (the one on the last slide of the previous video), enter the number of runs we expect the team to allow:"
   ]
  },
  {
   "cell_type": "code",
   "execution_count": 20,
   "metadata": {
    "collapsed": false
   },
   "outputs": [
    {
     "data": {
      "text/html": [
       "588.2465"
      ],
      "text/latex": [
       "588.2465"
      ],
      "text/markdown": [
       "588.2465"
      ],
      "text/plain": [
       "[1] 588.2465"
      ]
     },
     "execution_count": 20,
     "metadata": {},
     "output_type": "execute_result"
    }
   ],
   "source": [
    "-837.38 +2913.60*0.297 + 1514.29*0.370"
   ]
  },
  {
   "cell_type": "markdown",
   "metadata": {},
   "source": [
    " ### Using the Models to Make Predictions"
   ]
  },
  {
   "cell_type": "markdown",
   "metadata": {},
   "source": [
    "Suppose you are the General Manager of a baseball team, and you are selecting TWO players for your team. You have a budget of $1,500,000, and you have the choice between the following players:\n",
    "\n",
    "* Player Name\tOBP\tSLG\tSalary\n",
    "* Eric Chavez\t0.338\t0.540\t``$1,400,000``\n",
    "* Jeremy Giambi\t0.391\t0.450\t``$1,065,000``\n",
    "* Frank Menechino\t0.369\t0.374\t``$295,000``\n",
    "* Greg Myers\t0.313\t0.447\t``$800,000``\n",
    "* Carlos Pena\t0.361\t0.500\t``$300,000``\n",
    "Given your budget and the player statistics, which TWO players would you select?"
   ]
  },
  {
   "cell_type": "code",
   "execution_count": 21,
   "metadata": {
    "collapsed": false
   },
   "outputs": [
    {
     "data": {
      "text/html": [
       "976.58766"
      ],
      "text/latex": [
       "976.58766"
      ],
      "text/markdown": [
       "976.58766"
      ],
      "text/plain": [
       "[1] 976.5877"
      ]
     },
     "execution_count": 21,
     "metadata": {},
     "output_type": "execute_result"
    }
   ],
   "source": [
    "-804.63 + 2737.77*0.338+ 1584.91*0.540"
   ]
  },
  {
   "cell_type": "code",
   "execution_count": 22,
   "metadata": {
    "collapsed": false
   },
   "outputs": [
    {
     "data": {
      "text/html": [
       "979.04757"
      ],
      "text/latex": [
       "979.04757"
      ],
      "text/markdown": [
       "979.04757"
      ],
      "text/plain": [
       "[1] 979.0476"
      ]
     },
     "execution_count": 22,
     "metadata": {},
     "output_type": "execute_result"
    }
   ],
   "source": [
    "-804.63 + 2737.77*0.391+ 1584.91*0.450"
   ]
  },
  {
   "cell_type": "code",
   "execution_count": 23,
   "metadata": {
    "collapsed": false
   },
   "outputs": [
    {
     "data": {
      "text/html": [
       "798.36347"
      ],
      "text/latex": [
       "798.36347"
      ],
      "text/markdown": [
       "798.36347"
      ],
      "text/plain": [
       "[1] 798.3635"
      ]
     },
     "execution_count": 23,
     "metadata": {},
     "output_type": "execute_result"
    }
   ],
   "source": [
    "-804.63 + 2737.77*0.369+ 1584.91*0.374"
   ]
  },
  {
   "cell_type": "code",
   "execution_count": 24,
   "metadata": {
    "collapsed": false
   },
   "outputs": [
    {
     "data": {
      "text/html": [
       "760.74678"
      ],
      "text/latex": [
       "760.74678"
      ],
      "text/markdown": [
       "760.74678"
      ],
      "text/plain": [
       "[1] 760.7468"
      ]
     },
     "execution_count": 24,
     "metadata": {},
     "output_type": "execute_result"
    }
   ],
   "source": [
    "-804.63 + 2737.77*0.313+ 1584.91*0.447"
   ]
  },
  {
   "cell_type": "code",
   "execution_count": 25,
   "metadata": {
    "collapsed": false
   },
   "outputs": [
    {
     "data": {
      "text/html": [
       "976.15997"
      ],
      "text/latex": [
       "976.15997"
      ],
      "text/markdown": [
       "976.15997"
      ],
      "text/plain": [
       "[1] 976.16"
      ]
     },
     "execution_count": 25,
     "metadata": {},
     "output_type": "execute_result"
    }
   ],
   "source": [
    "-804.63 + 2737.77*0.361+ 1584.91*0.500"
   ]
  },
  {
   "cell_type": "markdown",
   "metadata": {},
   "source": [
    "EXPLANATION\n",
    "\n",
    "We would select Jeremy Giambi and Carlos Pena, since they give the highest contribution to Runs Scored.\n",
    "\n",
    "We would not select Eric Chavez, since his salary consumes our entire budget, and although he has the highest SLG, there are players with better OBP.\n",
    "\n",
    "We would not select Frank Menechino since even though he has a high OBP, his SLG is low.\n",
    "\n",
    "We would not select Greg Myers since he is dominated by Carlos Pena in OBP and SLG, but has a much higher salary."
   ]
  },
  {
   "cell_type": "code",
   "execution_count": null,
   "metadata": {
    "collapsed": true
   },
   "outputs": [],
   "source": []
  }
 ],
 "metadata": {
  "kernelspec": {
   "display_name": "R",
   "language": "R",
   "name": "ir"
  },
  "language_info": {
   "codemirror_mode": "r",
   "file_extension": ".r",
   "mimetype": "text/x-r-source",
   "name": "R",
   "pygments_lexer": "r",
   "version": "3.1.3"
  }
 },
 "nbformat": 4,
 "nbformat_minor": 0
}
