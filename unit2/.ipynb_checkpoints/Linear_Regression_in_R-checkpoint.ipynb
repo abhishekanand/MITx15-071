{
 "cells": [
  {
   "cell_type": "markdown",
   "metadata": {},
   "source": [
    "# Linear Regression in R"
   ]
  },
  {
   "cell_type": "markdown",
   "metadata": {},
   "source": [
    "Before starting this video, please download the datasets wine.csv and wine_test.csv. "
   ]
  },
  {
   "cell_type": "code",
   "execution_count": 29,
   "metadata": {
    "collapsed": true
   },
   "outputs": [],
   "source": [
    "wine = read.csv(\"wine.csv\")"
   ]
  },
  {
   "cell_type": "code",
   "execution_count": 30,
   "metadata": {
    "collapsed": false
   },
   "outputs": [
    {
     "name": "stdout",
     "output_type": "stream",
     "text": [
      "'data.frame':\t25 obs. of  7 variables:\n",
      " $ Year       : int  1952 1953 1955 1957 1958 1959 1960 1961 1962 1963 ...\n",
      " $ Price      : num  7.5 8.04 7.69 6.98 6.78 ...\n",
      " $ WinterRain : int  600 690 502 420 582 485 763 830 697 608 ...\n",
      " $ AGST       : num  17.1 16.7 17.1 16.1 16.4 ...\n",
      " $ HarvestRain: int  160 80 130 110 187 187 290 38 52 155 ...\n",
      " $ Age        : int  31 30 28 26 25 24 23 22 21 20 ...\n",
      " $ FrancePop  : num  43184 43495 44218 45152 45654 ...\n"
     ]
    }
   ],
   "source": [
    "str(wine)"
   ]
  },
  {
   "cell_type": "markdown",
   "metadata": {},
   "source": [
    "* Year gives the year the wine was produced, and it's just a unique identifier for each observation.\n",
    "* Price is the dependent variable we're trying to predict.\n",
    "* And WinterRain, AGST, HarvestRain, Age, and FrancePop are the independent variables we'll use to predict Price.\n"
   ]
  },
  {
   "cell_type": "code",
   "execution_count": 31,
   "metadata": {
    "collapsed": false,
    "scrolled": true
   },
   "outputs": [
    {
     "data": {
      "text/plain": [
       "      Year          Price         WinterRain         AGST        HarvestRain   \n",
       " Min.   :1952   Min.   :6.205   Min.   :376.0   Min.   :14.98   Min.   : 38.0  \n",
       " 1st Qu.:1960   1st Qu.:6.519   1st Qu.:536.0   1st Qu.:16.20   1st Qu.: 89.0  \n",
       " Median :1966   Median :7.121   Median :600.0   Median :16.53   Median :130.0  \n",
       " Mean   :1966   Mean   :7.067   Mean   :605.3   Mean   :16.51   Mean   :148.6  \n",
       " 3rd Qu.:1972   3rd Qu.:7.495   3rd Qu.:697.0   3rd Qu.:17.07   3rd Qu.:187.0  \n",
       " Max.   :1978   Max.   :8.494   Max.   :830.0   Max.   :17.65   Max.   :292.0  \n",
       "      Age         FrancePop    \n",
       " Min.   : 5.0   Min.   :43184  \n",
       " 1st Qu.:11.0   1st Qu.:46584  \n",
       " Median :17.0   Median :50255  \n",
       " Mean   :17.2   Mean   :49694  \n",
       " 3rd Qu.:23.0   3rd Qu.:52894  \n",
       " Max.   :31.0   Max.   :54602  "
      ]
     },
     "execution_count": 31,
     "metadata": {},
     "output_type": "execute_result"
    }
   ],
   "source": [
    "summary(wine)"
   ]
  },
  {
   "cell_type": "markdown",
   "metadata": {},
   "source": [
    "### Let's now create a one-variable linear regression equation using Average Growing Season Temperature (AGST ) to predict Price.\n",
    "We'll call our regression model model1,"
   ]
  },
  {
   "cell_type": "code",
   "execution_count": 32,
   "metadata": {
    "collapsed": true
   },
   "outputs": [],
   "source": [
    "model1 = lm(Price ~ AGST , data = wine)"
   ]
  },
  {
   "cell_type": "code",
   "execution_count": 33,
   "metadata": {
    "collapsed": false
   },
   "outputs": [
    {
     "data": {
      "text/plain": [
       "\n",
       "Call:\n",
       "lm(formula = Price ~ AGST, data = wine)\n",
       "\n",
       "Residuals:\n",
       "     Min       1Q   Median       3Q      Max \n",
       "-0.78450 -0.23882 -0.03727  0.38992  0.90318 \n",
       "\n",
       "Coefficients:\n",
       "            Estimate Std. Error t value Pr(>|t|)    \n",
       "(Intercept)  -3.4178     2.4935  -1.371 0.183710    \n",
       "AGST          0.6351     0.1509   4.208 0.000335 ***\n",
       "---\n",
       "Signif. codes:  0 '***' 0.001 '**' 0.01 '*' 0.05 '.' 0.1 ' ' 1\n",
       "\n",
       "Residual standard error: 0.4993 on 23 degrees of freedom\n",
       "Multiple R-squared:  0.435,\tAdjusted R-squared:  0.4105 \n",
       "F-statistic: 17.71 on 1 and 23 DF,  p-value: 0.000335\n"
      ]
     },
     "execution_count": 33,
     "metadata": {},
     "output_type": "execute_result"
    }
   ],
   "source": [
    "summary(model1)"
   ]
  },
  {
   "cell_type": "markdown",
   "metadata": {},
   "source": [
    "The first thing we see is a description of the function we used to build the model.\n",
    "Then we see a summary of the residuals or error terms.\n",
    "Following that is a description of the coefficientsof our model.\n",
    "\n",
    "The first row corresponds to the intercept term,and \n",
    "the second row corresponds to our independent variable,AGST.\n",
    "\n",
    "The Estimate column gives estimates of the beta values for our model.\n",
    "So here beta 0, or the coefficient for the intercept term, is estimated to be -3.4.\n",
    "And beta 1, or the coefficient for our independent variable, is estimated to be 0.635.\n",
    "\n",
    "you can see Multiple R-squared, 0.435,which is the R-squared value \n",
    "Beside it is a number labeled Adjusted R-squared.In this case, it's 0.41.\n",
    "This number adjusts the R-squared value to account for the number of independent variables used relative to the number of data points.\n",
    "\n",
    "* Multiple R-squared will always increase if you add more independent variables. But Adjusted R-squared will decrease if you add an independent variable that doesn't help the model. This is a good way to determine if an additional variable should even be included in the model."
   ]
  },
  {
   "cell_type": "markdown",
   "metadata": {},
   "source": [
    "#### Let's also compute the sum of squared errors, or SSE, for our model.\n",
    "Our residuals, or error terms, are stored in the vector model1$residuals."
   ]
  },
  {
   "cell_type": "code",
   "execution_count": 34,
   "metadata": {
    "collapsed": false
   },
   "outputs": [
    {
     "data": {
      "text/html": [
       "<dl class=dl-horizontal>\n",
       "\t<dt>1</dt>\n",
       "\t\t<dd>0.0420425810460022</dd>\n",
       "\t<dt>2</dt>\n",
       "\t\t<dd>0.829837738524831</dd>\n",
       "\t<dt>3</dt>\n",
       "\t\t<dd>0.211693940607739</dd>\n",
       "\t<dt>4</dt>\n",
       "\t\t<dd>0.156094322998686</dd>\n",
       "\t<dt>5</dt>\n",
       "\t\t<dd>-0.231191403734465</dd>\n",
       "\t<dt>6</dt>\n",
       "\t\t<dd>0.389917007932511</dd>\n",
       "\t<dt>7</dt>\n",
       "\t\t<dd>-0.489591403734465</dd>\n",
       "\t<dt>8</dt>\n",
       "\t\t<dd>0.903181154050975</dd>\n",
       "\t<dt>9</dt>\n",
       "\t\t<dd>0.453724101945699</dd>\n",
       "\t<dt>10</dt>\n",
       "\t\t<dd>0.148874611485033</dd>\n",
       "\t<dt>11</dt>\n",
       "\t\t<dd>-0.238821565072427</dd>\n",
       "\t<dt>12</dt>\n",
       "\t\t<dd>-0.0897423809052182</dd>\n",
       "\t<dt>13</dt>\n",
       "\t\t<dd>0.661856600016115</dd>\n",
       "\t<dt>14</dt>\n",
       "\t\t<dd>-0.0521151077469565</dd>\n",
       "\t<dt>15</dt>\n",
       "\t\t<dd>-0.627266467308658</dd>\n",
       "\t<dt>16</dt>\n",
       "\t\t<dd>-0.747149474918407</dd>\n",
       "\t<dt>17</dt>\n",
       "\t\t<dd>0.421135019401429</dd>\n",
       "\t<dt>18</dt>\n",
       "\t\t<dd>-0.0372744113442148</dd>\n",
       "\t<dt>19</dt>\n",
       "\t\t<dd>0.106852776573575</dd>\n",
       "\t<dt>20</dt>\n",
       "\t\t<dd>-0.784502703581142</dd>\n",
       "\t<dt>21</dt>\n",
       "\t\t<dd>-0.640175898054301</dd>\n",
       "\t<dt>22</dt>\n",
       "\t\t<dd>-0.0550871979009768</dd>\n",
       "\t<dt>23</dt>\n",
       "\t\t<dd>-0.670553213120474</dd>\n",
       "\t<dt>24</dt>\n",
       "\t\t<dd>-0.22040380790028</dd>\n",
       "\t<dt>25</dt>\n",
       "\t\t<dd>0.558665180739389</dd>\n",
       "</dl>\n"
      ],
      "text/latex": [
       "\\begin{description*}\n",
       "\\item[1] 0.0420425810460022\n",
       "\\item[2] 0.829837738524831\n",
       "\\item[3] 0.211693940607739\n",
       "\\item[4] 0.156094322998686\n",
       "\\item[5] -0.231191403734465\n",
       "\\item[6] 0.389917007932511\n",
       "\\item[7] -0.489591403734465\n",
       "\\item[8] 0.903181154050975\n",
       "\\item[9] 0.453724101945699\n",
       "\\item[10] 0.148874611485033\n",
       "\\item[11] -0.238821565072427\n",
       "\\item[12] -0.0897423809052182\n",
       "\\item[13] 0.661856600016115\n",
       "\\item[14] -0.0521151077469565\n",
       "\\item[15] -0.627266467308658\n",
       "\\item[16] -0.747149474918407\n",
       "\\item[17] 0.421135019401429\n",
       "\\item[18] -0.0372744113442148\n",
       "\\item[19] 0.106852776573575\n",
       "\\item[20] -0.784502703581142\n",
       "\\item[21] -0.640175898054301\n",
       "\\item[22] -0.0550871979009768\n",
       "\\item[23] -0.670553213120474\n",
       "\\item[24] -0.22040380790028\n",
       "\\item[25] 0.558665180739389\n",
       "\\end{description*}\n"
      ],
      "text/markdown": [
       "1\n",
       ":   0.04204258104600222\n",
       ":   0.8298377385248313\n",
       ":   0.2116939406077394\n",
       ":   0.1560943229986865\n",
       ":   -0.2311914037344656\n",
       ":   0.3899170079325117\n",
       ":   -0.4895914037344658\n",
       ":   0.9031811540509759\n",
       ":   0.45372410194569910\n",
       ":   0.14887461148503311\n",
       ":   -0.23882156507242712\n",
       ":   -0.089742380905218213\n",
       ":   0.66185660001611514\n",
       ":   -0.052115107746956515\n",
       ":   -0.62726646730865816\n",
       ":   -0.74714947491840717\n",
       ":   0.42113501940142918\n",
       ":   -0.037274411344214819\n",
       ":   0.10685277657357520\n",
       ":   -0.78450270358114221\n",
       ":   -0.64017589805430122\n",
       ":   -0.055087197900976823\n",
       ":   -0.67055321312047424\n",
       ":   -0.2204038079002825\n",
       ":   0.558665180739389\n",
       "\n"
      ],
      "text/plain": [
       "          1           2           3           4           5           6 \n",
       " 0.04204258  0.82983774  0.21169394  0.15609432 -0.23119140  0.38991701 \n",
       "          7           8           9          10          11          12 \n",
       "-0.48959140  0.90318115  0.45372410  0.14887461 -0.23882157 -0.08974238 \n",
       "         13          14          15          16          17          18 \n",
       " 0.66185660 -0.05211511 -0.62726647 -0.74714947  0.42113502 -0.03727441 \n",
       "         19          20          21          22          23          24 \n",
       " 0.10685278 -0.78450270 -0.64017590 -0.05508720 -0.67055321 -0.22040381 \n",
       "         25 \n",
       " 0.55866518 "
      ]
     },
     "execution_count": 34,
     "metadata": {},
     "output_type": "execute_result"
    }
   ],
   "source": [
    "model1$residuals"
   ]
  },
  {
   "cell_type": "code",
   "execution_count": 35,
   "metadata": {
    "collapsed": true
   },
   "outputs": [],
   "source": [
    "SSE = sum(model1$residuals^2)"
   ]
  },
  {
   "cell_type": "code",
   "execution_count": 36,
   "metadata": {
    "collapsed": false
   },
   "outputs": [
    {
     "data": {
      "text/html": [
       "5.73487514702011"
      ],
      "text/latex": [
       "5.73487514702011"
      ],
      "text/markdown": [
       "5.73487514702011"
      ],
      "text/plain": [
       "[1] 5.734875"
      ]
     },
     "execution_count": 36,
     "metadata": {},
     "output_type": "execute_result"
    }
   ],
   "source": [
    "SSE"
   ]
  },
  {
   "cell_type": "markdown",
   "metadata": {},
   "source": [
    "### Now let's add another variable to our regression model, HarvestRain.\n",
    "We'll call our new model model2."
   ]
  },
  {
   "cell_type": "code",
   "execution_count": 37,
   "metadata": {
    "collapsed": true
   },
   "outputs": [],
   "source": [
    "#  When you want to use more than one independent variable,you can just separate them with a plus sign \n",
    "model2 = lm(Price ~ AGST +  HarvestRain, data = wine )"
   ]
  },
  {
   "cell_type": "code",
   "execution_count": 38,
   "metadata": {
    "collapsed": false
   },
   "outputs": [
    {
     "data": {
      "text/plain": [
       "\n",
       "Call:\n",
       "lm(formula = Price ~ AGST + HarvestRain, data = wine)\n",
       "\n",
       "Residuals:\n",
       "     Min       1Q   Median       3Q      Max \n",
       "-0.88321 -0.19600  0.06178  0.15379  0.59722 \n",
       "\n",
       "Coefficients:\n",
       "            Estimate Std. Error t value Pr(>|t|)    \n",
       "(Intercept) -2.20265    1.85443  -1.188 0.247585    \n",
       "AGST         0.60262    0.11128   5.415 1.94e-05 ***\n",
       "HarvestRain -0.00457    0.00101  -4.525 0.000167 ***\n",
       "---\n",
       "Signif. codes:  0 '***' 0.001 '**' 0.01 '*' 0.05 '.' 0.1 ' ' 1\n",
       "\n",
       "Residual standard error: 0.3674 on 22 degrees of freedom\n",
       "Multiple R-squared:  0.7074,\tAdjusted R-squared:  0.6808 \n",
       "F-statistic: 26.59 on 2 and 22 DF,  p-value: 1.347e-06\n"
      ]
     },
     "execution_count": 38,
     "metadata": {},
     "output_type": "execute_result"
    }
   ],
   "source": [
    "summary(model2)"
   ]
  },
  {
   "cell_type": "markdown",
   "metadata": {},
   "source": [
    "We have a third row in our Coefficients table now corresponding to HarvestRain.\n",
    "The coefficient estimate for this new independent variable is negative 0.00457.\n",
    "\n",
    "And if you look at the R-squared near the bottom of the output, you can see that this variable really helped our model.\n",
    "Our Multiple R-squared and Adjusted R-squared both increased significantly compared to the previous model.\n",
    "This indicates that this new model is probably better than the previous model."
   ]
  },
  {
   "cell_type": "code",
   "execution_count": 39,
   "metadata": {
    "collapsed": true
   },
   "outputs": [],
   "source": [
    "SSE2 = sum(model2$residuals^2)"
   ]
  },
  {
   "cell_type": "code",
   "execution_count": 40,
   "metadata": {
    "collapsed": false
   },
   "outputs": [
    {
     "data": {
      "text/html": [
       "2.97037334017354"
      ],
      "text/latex": [
       "2.97037334017354"
      ],
      "text/markdown": [
       "2.97037334017354"
      ],
      "text/plain": [
       "[1] 2.970373"
      ]
     },
     "execution_count": 40,
     "metadata": {},
     "output_type": "execute_result"
    }
   ],
   "source": [
    "SSE2"
   ]
  },
  {
   "cell_type": "markdown",
   "metadata": {},
   "source": [
    "If we type SSE, we can see that the sum of squared errors for model2 is 2.97, which is much better than the sum of squared errors for model1."
   ]
  },
  {
   "cell_type": "markdown",
   "metadata": {},
   "source": [
    "### Let's build a third model, this time with all of our independent variables.\n",
    "We'll call this one model3."
   ]
  },
  {
   "cell_type": "code",
   "execution_count": 41,
   "metadata": {
    "collapsed": false
   },
   "outputs": [],
   "source": [
    "model3 = lm (Price ~ AGST + HarvestRain + WinterRain + Age + FrancePop , data = wine)"
   ]
  },
  {
   "cell_type": "code",
   "execution_count": 42,
   "metadata": {
    "collapsed": false
   },
   "outputs": [
    {
     "data": {
      "text/plain": [
       "\n",
       "Call:\n",
       "lm(formula = Price ~ AGST + HarvestRain + WinterRain + Age + \n",
       "    FrancePop, data = wine)\n",
       "\n",
       "Residuals:\n",
       "     Min       1Q   Median       3Q      Max \n",
       "-0.48179 -0.24662 -0.00726  0.22012  0.51987 \n",
       "\n",
       "Coefficients:\n",
       "              Estimate Std. Error t value Pr(>|t|)    \n",
       "(Intercept) -4.504e-01  1.019e+01  -0.044 0.965202    \n",
       "AGST         6.012e-01  1.030e-01   5.836 1.27e-05 ***\n",
       "HarvestRain -3.958e-03  8.751e-04  -4.523 0.000233 ***\n",
       "WinterRain   1.043e-03  5.310e-04   1.963 0.064416 .  \n",
       "Age          5.847e-04  7.900e-02   0.007 0.994172    \n",
       "FrancePop   -4.953e-05  1.667e-04  -0.297 0.769578    \n",
       "---\n",
       "Signif. codes:  0 '***' 0.001 '**' 0.01 '*' 0.05 '.' 0.1 ' ' 1\n",
       "\n",
       "Residual standard error: 0.3019 on 19 degrees of freedom\n",
       "Multiple R-squared:  0.8294,\tAdjusted R-squared:  0.7845 \n",
       "F-statistic: 18.47 on 5 and 19 DF,  p-value: 1.044e-06\n"
      ]
     },
     "execution_count": 42,
     "metadata": {},
     "output_type": "execute_result"
    }
   ],
   "source": [
    "summary(model3)"
   ]
  },
  {
   "cell_type": "markdown",
   "metadata": {},
   "source": [
    "Now the Coefficients table has six rows, one for the intercept and one for each of the five independent variables.\n",
    "If we look at the bottom of the output, we can again see that the Multiple R-squared and Adjusted R-squared have both increased."
   ]
  },
  {
   "cell_type": "code",
   "execution_count": 43,
   "metadata": {
    "collapsed": true
   },
   "outputs": [],
   "source": [
    "SSE3 = sum(model3$residuals^2)"
   ]
  },
  {
   "cell_type": "code",
   "execution_count": 44,
   "metadata": {
    "collapsed": false
   },
   "outputs": [
    {
     "data": {
      "text/html": [
       "1.73211271534381"
      ],
      "text/latex": [
       "1.73211271534381"
      ],
      "text/markdown": [
       "1.73211271534381"
      ],
      "text/plain": [
       "[1] 1.732113"
      ]
     },
     "execution_count": 44,
     "metadata": {},
     "output_type": "execute_result"
    }
   ],
   "source": [
    "SSE3"
   ]
  },
  {
   "cell_type": "markdown",
   "metadata": {},
   "source": [
    "And if we type SSE, we can see that the sum of squared errors for model3 is 1.7, even better than before."
   ]
  },
  {
   "cell_type": "markdown",
   "metadata": {},
   "source": [
    "## Quiz \n",
    "In R, use the dataset wine.csv to create a linear regression model to predict Price using HarvestRain and WinterRain as independent variables. Using the summary output of this model, answer the following questions:"
   ]
  },
  {
   "cell_type": "code",
   "execution_count": 45,
   "metadata": {
    "collapsed": true
   },
   "outputs": [],
   "source": [
    "modelq = lm (Price ~ HarvestRain + WinterRain, data = wine)"
   ]
  },
  {
   "cell_type": "code",
   "execution_count": 46,
   "metadata": {
    "collapsed": false
   },
   "outputs": [
    {
     "data": {
      "text/plain": [
       "\n",
       "Call:\n",
       "lm(formula = Price ~ HarvestRain + WinterRain, data = wine)\n",
       "\n",
       "Residuals:\n",
       "    Min      1Q  Median      3Q     Max \n",
       "-1.0933 -0.3222 -0.1012  0.3871  1.1877 \n",
       "\n",
       "Coefficients:\n",
       "              Estimate Std. Error t value Pr(>|t|)    \n",
       "(Intercept)  7.865e+00  6.616e-01  11.888 4.76e-11 ***\n",
       "HarvestRain -4.971e-03  1.601e-03  -3.105  0.00516 ** \n",
       "WinterRain  -9.848e-05  9.007e-04  -0.109  0.91392    \n",
       "---\n",
       "Signif. codes:  0 '***' 0.001 '**' 0.01 '*' 0.05 '.' 0.1 ' ' 1\n",
       "\n",
       "Residual standard error: 0.5611 on 22 degrees of freedom\n",
       "Multiple R-squared:  0.3177,\tAdjusted R-squared:  0.2557 \n",
       "F-statistic: 5.122 on 2 and 22 DF,  p-value: 0.01492\n"
      ]
     },
     "execution_count": 46,
     "metadata": {},
     "output_type": "execute_result"
    }
   ],
   "source": [
    "summary(modelq)"
   ]
  },
  {
   "cell_type": "markdown",
   "metadata": {},
   "source": [
    " * What is the \"Multiple R-squared\" value of your model?  0.3177\n",
    " * What is the coefficient for HarvestRain?  -4.971e-03 or -0.004971\n",
    " * What is the intercept coefficient? 7.865 "
   ]
  },
  {
   "cell_type": "markdown",
   "metadata": {},
   "source": [
    "###  Understanding the Model "
   ]
  },
  {
   "cell_type": "code",
   "execution_count": 47,
   "metadata": {
    "collapsed": false
   },
   "outputs": [
    {
     "data": {
      "text/plain": [
       "\n",
       "Call:\n",
       "lm(formula = Price ~ AGST + HarvestRain + WinterRain + Age + \n",
       "    FrancePop, data = wine)\n",
       "\n",
       "Residuals:\n",
       "     Min       1Q   Median       3Q      Max \n",
       "-0.48179 -0.24662 -0.00726  0.22012  0.51987 \n",
       "\n",
       "Coefficients:\n",
       "              Estimate Std. Error t value Pr(>|t|)    \n",
       "(Intercept) -4.504e-01  1.019e+01  -0.044 0.965202    \n",
       "AGST         6.012e-01  1.030e-01   5.836 1.27e-05 ***\n",
       "HarvestRain -3.958e-03  8.751e-04  -4.523 0.000233 ***\n",
       "WinterRain   1.043e-03  5.310e-04   1.963 0.064416 .  \n",
       "Age          5.847e-04  7.900e-02   0.007 0.994172    \n",
       "FrancePop   -4.953e-05  1.667e-04  -0.297 0.769578    \n",
       "---\n",
       "Signif. codes:  0 '***' 0.001 '**' 0.01 '*' 0.05 '.' 0.1 ' ' 1\n",
       "\n",
       "Residual standard error: 0.3019 on 19 degrees of freedom\n",
       "Multiple R-squared:  0.8294,\tAdjusted R-squared:  0.7845 \n",
       "F-statistic: 18.47 on 5 and 19 DF,  p-value: 1.044e-06\n"
      ]
     },
     "execution_count": 47,
     "metadata": {},
     "output_type": "execute_result"
    }
   ],
   "source": [
    "summary(model3) # Model with all independet Varialble "
   ]
  },
  {
   "cell_type": "markdown",
   "metadata": {},
   "source": [
    "* Three stars is the highest level of significance and corresponds to a probability value less than 0.001,or the smallest possible probabilities.\n",
    "* Two stars is also very significant and corresponds to a probability between 0.001 and 0.01.\n",
    "* One star is still significant and corresponds to a probability between 0.01 and 0.05.\n",
    "* A period, or dot, means that the coefficient is almost significant and corresponds to a probability between 0.05 and 0.10.\n",
    "* Nothing at the end of a row means that the variable is not significant in the model. "
   ]
  },
  {
   "cell_type": "markdown",
   "metadata": {},
   "source": [
    "#### As we just learned, both Age and FrancePopulation are insignificant in our model. Because of this, we should consider removing these variables from our model."
   ]
  },
  {
   "cell_type": "code",
   "execution_count": 48,
   "metadata": {
    "collapsed": true
   },
   "outputs": [],
   "source": [
    "model4  = lm (Price ~ AGST + HarvestRain + WinterRain + Age , data = wine)"
   ]
  },
  {
   "cell_type": "code",
   "execution_count": 49,
   "metadata": {
    "collapsed": false
   },
   "outputs": [
    {
     "data": {
      "text/plain": [
       "\n",
       "Call:\n",
       "lm(formula = Price ~ AGST + HarvestRain + WinterRain + Age, data = wine)\n",
       "\n",
       "Residuals:\n",
       "     Min       1Q   Median       3Q      Max \n",
       "-0.45470 -0.24273  0.00752  0.19773  0.53637 \n",
       "\n",
       "Coefficients:\n",
       "              Estimate Std. Error t value Pr(>|t|)    \n",
       "(Intercept) -3.4299802  1.7658975  -1.942 0.066311 .  \n",
       "AGST         0.6072093  0.0987022   6.152  5.2e-06 ***\n",
       "HarvestRain -0.0039715  0.0008538  -4.652 0.000154 ***\n",
       "WinterRain   0.0010755  0.0005073   2.120 0.046694 *  \n",
       "Age          0.0239308  0.0080969   2.956 0.007819 ** \n",
       "---\n",
       "Signif. codes:  0 '***' 0.001 '**' 0.01 '*' 0.05 '.' 0.1 ' ' 1\n",
       "\n",
       "Residual standard error: 0.295 on 20 degrees of freedom\n",
       "Multiple R-squared:  0.8286,\tAdjusted R-squared:  0.7943 \n",
       "F-statistic: 24.17 on 4 and 20 DF,  p-value: 2.036e-07\n"
      ]
     },
     "execution_count": 49,
     "metadata": {},
     "output_type": "execute_result"
    }
   ],
   "source": [
    "summary(model4)"
   ]
  },
  {
   "cell_type": "markdown",
   "metadata": {},
   "source": [
    "We can see that the R-squared, for this model, is 0.8286 and our Adjusted R-squared is 0.79.\n",
    "we can see that for model3, the R-squared was 0.8294, and the Adjusted R-squared was 0.7845.\n",
    "\n",
    "So this model is just as strong, if not stronger, than the previous model because our Adjusted R-squared actually increased by removing FrancePopulation.\n",
    "\n",
    "If we look at each of our independent variables in the new model, and the stars, we can see that something a little strange happened.\n",
    "Before, Age was not significant at all in our model. But now, Age has two stars, meaning that it's very significant in this new model.\n",
    "This is due to something called multicollinearity. Age and FrancePopulation are what we call highly correlated."
   ]
  },
  {
   "cell_type": "code",
   "execution_count": null,
   "metadata": {
    "collapsed": true
   },
   "outputs": [],
   "source": []
  }
 ],
 "metadata": {
  "kernelspec": {
   "display_name": "R",
   "language": "R",
   "name": "ir"
  },
  "language_info": {
   "codemirror_mode": "r",
   "file_extension": ".r",
   "mimetype": "text/x-r-source",
   "name": "R",
   "pygments_lexer": "r",
   "version": "3.1.3"
  }
 },
 "nbformat": 4,
 "nbformat_minor": 0
}
